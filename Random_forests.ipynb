{
  "nbformat": 4,
  "nbformat_minor": 0,
  "metadata": {
    "colab": {
      "provenance": [],
      "authorship_tag": "ABX9TyPxhqQCfAMptS0Z5mT8YJCt",
      "include_colab_link": true
    },
    "kernelspec": {
      "name": "python3",
      "display_name": "Python 3"
    },
    "language_info": {
      "name": "python"
    },
    "widgets": {
      "application/vnd.jupyter.widget-state+json": {
        "cf4ecec24e1a42eab54644bcce3a0cc1": {
          "model_module": "@jupyter-widgets/controls",
          "model_name": "VBoxModel",
          "model_module_version": "1.5.0",
          "state": {
            "_dom_classes": [
              "widget-interact"
            ],
            "_model_module": "@jupyter-widgets/controls",
            "_model_module_version": "1.5.0",
            "_model_name": "VBoxModel",
            "_view_count": null,
            "_view_module": "@jupyter-widgets/controls",
            "_view_module_version": "1.5.0",
            "_view_name": "VBoxView",
            "box_style": "",
            "children": [
              "IPY_MODEL_1ff8c6cb6f674523b4e315ef587fc35c",
              "IPY_MODEL_686e8905eb70449dab31dce855655a93",
              "IPY_MODEL_ac9734802b68452ead40b44a701549a5"
            ],
            "layout": "IPY_MODEL_9bb1db95df244babba9396babab5833d"
          }
        },
        "1ff8c6cb6f674523b4e315ef587fc35c": {
          "model_module": "@jupyter-widgets/controls",
          "model_name": "DropdownModel",
          "model_module_version": "1.5.0",
          "state": {
            "_dom_classes": [],
            "_model_module": "@jupyter-widgets/controls",
            "_model_module_version": "1.5.0",
            "_model_name": "DropdownModel",
            "_options_labels": [
              "Age",
              "SibSp",
              "Parch",
              "LogFare",
              "Pclass"
            ],
            "_view_count": null,
            "_view_module": "@jupyter-widgets/controls",
            "_view_module_version": "1.5.0",
            "_view_name": "DropdownView",
            "description": "feature",
            "description_tooltip": null,
            "disabled": false,
            "index": 0,
            "layout": "IPY_MODEL_7be1a949306f44c8b3334055e7dae977",
            "style": "IPY_MODEL_088a3ad24b694bd28887beb6a2a30cc2"
          }
        },
        "686e8905eb70449dab31dce855655a93": {
          "model_module": "@jupyter-widgets/controls",
          "model_name": "IntSliderModel",
          "model_module_version": "1.5.0",
          "state": {
            "_dom_classes": [],
            "_model_module": "@jupyter-widgets/controls",
            "_model_module_version": "1.5.0",
            "_model_name": "IntSliderModel",
            "_view_count": null,
            "_view_module": "@jupyter-widgets/controls",
            "_view_module_version": "1.5.0",
            "_view_name": "IntSliderView",
            "continuous_update": true,
            "description": "split",
            "description_tooltip": null,
            "disabled": false,
            "layout": "IPY_MODEL_28e976fe32d04c2f88ab3530102a2021",
            "max": 45,
            "min": -15,
            "orientation": "horizontal",
            "readout": true,
            "readout_format": "d",
            "step": 1,
            "style": "IPY_MODEL_c9499f290a224544813235be81852eb4",
            "value": 15
          }
        },
        "ac9734802b68452ead40b44a701549a5": {
          "model_module": "@jupyter-widgets/output",
          "model_name": "OutputModel",
          "model_module_version": "1.0.0",
          "state": {
            "_dom_classes": [],
            "_model_module": "@jupyter-widgets/output",
            "_model_module_version": "1.0.0",
            "_model_name": "OutputModel",
            "_view_count": null,
            "_view_module": "@jupyter-widgets/output",
            "_view_module_version": "1.0.0",
            "_view_name": "OutputView",
            "layout": "IPY_MODEL_6ca92d58ca0640a19343703e2530ad5a",
            "msg_id": "",
            "outputs": [
              {
                "output_type": "display_data",
                "data": {
                  "text/plain": "0.4873707027868929"
                },
                "metadata": {}
              }
            ]
          }
        },
        "9bb1db95df244babba9396babab5833d": {
          "model_module": "@jupyter-widgets/base",
          "model_name": "LayoutModel",
          "model_module_version": "1.2.0",
          "state": {
            "_model_module": "@jupyter-widgets/base",
            "_model_module_version": "1.2.0",
            "_model_name": "LayoutModel",
            "_view_count": null,
            "_view_module": "@jupyter-widgets/base",
            "_view_module_version": "1.2.0",
            "_view_name": "LayoutView",
            "align_content": null,
            "align_items": null,
            "align_self": null,
            "border": null,
            "bottom": null,
            "display": null,
            "flex": null,
            "flex_flow": null,
            "grid_area": null,
            "grid_auto_columns": null,
            "grid_auto_flow": null,
            "grid_auto_rows": null,
            "grid_column": null,
            "grid_gap": null,
            "grid_row": null,
            "grid_template_areas": null,
            "grid_template_columns": null,
            "grid_template_rows": null,
            "height": null,
            "justify_content": null,
            "justify_items": null,
            "left": null,
            "margin": null,
            "max_height": null,
            "max_width": null,
            "min_height": null,
            "min_width": null,
            "object_fit": null,
            "object_position": null,
            "order": null,
            "overflow": null,
            "overflow_x": null,
            "overflow_y": null,
            "padding": null,
            "right": null,
            "top": null,
            "visibility": null,
            "width": null
          }
        },
        "7be1a949306f44c8b3334055e7dae977": {
          "model_module": "@jupyter-widgets/base",
          "model_name": "LayoutModel",
          "model_module_version": "1.2.0",
          "state": {
            "_model_module": "@jupyter-widgets/base",
            "_model_module_version": "1.2.0",
            "_model_name": "LayoutModel",
            "_view_count": null,
            "_view_module": "@jupyter-widgets/base",
            "_view_module_version": "1.2.0",
            "_view_name": "LayoutView",
            "align_content": null,
            "align_items": null,
            "align_self": null,
            "border": null,
            "bottom": null,
            "display": null,
            "flex": null,
            "flex_flow": null,
            "grid_area": null,
            "grid_auto_columns": null,
            "grid_auto_flow": null,
            "grid_auto_rows": null,
            "grid_column": null,
            "grid_gap": null,
            "grid_row": null,
            "grid_template_areas": null,
            "grid_template_columns": null,
            "grid_template_rows": null,
            "height": null,
            "justify_content": null,
            "justify_items": null,
            "left": null,
            "margin": null,
            "max_height": null,
            "max_width": null,
            "min_height": null,
            "min_width": null,
            "object_fit": null,
            "object_position": null,
            "order": null,
            "overflow": null,
            "overflow_x": null,
            "overflow_y": null,
            "padding": null,
            "right": null,
            "top": null,
            "visibility": null,
            "width": null
          }
        },
        "088a3ad24b694bd28887beb6a2a30cc2": {
          "model_module": "@jupyter-widgets/controls",
          "model_name": "DescriptionStyleModel",
          "model_module_version": "1.5.0",
          "state": {
            "_model_module": "@jupyter-widgets/controls",
            "_model_module_version": "1.5.0",
            "_model_name": "DescriptionStyleModel",
            "_view_count": null,
            "_view_module": "@jupyter-widgets/base",
            "_view_module_version": "1.2.0",
            "_view_name": "StyleView",
            "description_width": ""
          }
        },
        "28e976fe32d04c2f88ab3530102a2021": {
          "model_module": "@jupyter-widgets/base",
          "model_name": "LayoutModel",
          "model_module_version": "1.2.0",
          "state": {
            "_model_module": "@jupyter-widgets/base",
            "_model_module_version": "1.2.0",
            "_model_name": "LayoutModel",
            "_view_count": null,
            "_view_module": "@jupyter-widgets/base",
            "_view_module_version": "1.2.0",
            "_view_name": "LayoutView",
            "align_content": null,
            "align_items": null,
            "align_self": null,
            "border": null,
            "bottom": null,
            "display": null,
            "flex": null,
            "flex_flow": null,
            "grid_area": null,
            "grid_auto_columns": null,
            "grid_auto_flow": null,
            "grid_auto_rows": null,
            "grid_column": null,
            "grid_gap": null,
            "grid_row": null,
            "grid_template_areas": null,
            "grid_template_columns": null,
            "grid_template_rows": null,
            "height": null,
            "justify_content": null,
            "justify_items": null,
            "left": null,
            "margin": null,
            "max_height": null,
            "max_width": null,
            "min_height": null,
            "min_width": null,
            "object_fit": null,
            "object_position": null,
            "order": null,
            "overflow": null,
            "overflow_x": null,
            "overflow_y": null,
            "padding": null,
            "right": null,
            "top": null,
            "visibility": null,
            "width": null
          }
        },
        "c9499f290a224544813235be81852eb4": {
          "model_module": "@jupyter-widgets/controls",
          "model_name": "SliderStyleModel",
          "model_module_version": "1.5.0",
          "state": {
            "_model_module": "@jupyter-widgets/controls",
            "_model_module_version": "1.5.0",
            "_model_name": "SliderStyleModel",
            "_view_count": null,
            "_view_module": "@jupyter-widgets/base",
            "_view_module_version": "1.2.0",
            "_view_name": "StyleView",
            "description_width": "",
            "handle_color": null
          }
        },
        "6ca92d58ca0640a19343703e2530ad5a": {
          "model_module": "@jupyter-widgets/base",
          "model_name": "LayoutModel",
          "model_module_version": "1.2.0",
          "state": {
            "_model_module": "@jupyter-widgets/base",
            "_model_module_version": "1.2.0",
            "_model_name": "LayoutModel",
            "_view_count": null,
            "_view_module": "@jupyter-widgets/base",
            "_view_module_version": "1.2.0",
            "_view_name": "LayoutView",
            "align_content": null,
            "align_items": null,
            "align_self": null,
            "border": null,
            "bottom": null,
            "display": null,
            "flex": null,
            "flex_flow": null,
            "grid_area": null,
            "grid_auto_columns": null,
            "grid_auto_flow": null,
            "grid_auto_rows": null,
            "grid_column": null,
            "grid_gap": null,
            "grid_row": null,
            "grid_template_areas": null,
            "grid_template_columns": null,
            "grid_template_rows": null,
            "height": null,
            "justify_content": null,
            "justify_items": null,
            "left": null,
            "margin": null,
            "max_height": null,
            "max_width": null,
            "min_height": null,
            "min_width": null,
            "object_fit": null,
            "object_position": null,
            "order": null,
            "overflow": null,
            "overflow_x": null,
            "overflow_y": null,
            "padding": null,
            "right": null,
            "top": null,
            "visibility": null,
            "width": null
          }
        },
        "a5b6191c89fb434d81a98acea0479848": {
          "model_module": "@jupyter-widgets/controls",
          "model_name": "VBoxModel",
          "model_module_version": "1.5.0",
          "state": {
            "_dom_classes": [
              "widget-interact"
            ],
            "_model_module": "@jupyter-widgets/controls",
            "_model_module_version": "1.5.0",
            "_model_name": "VBoxModel",
            "_view_count": null,
            "_view_module": "@jupyter-widgets/controls",
            "_view_module_version": "1.5.0",
            "_view_name": "VBoxView",
            "box_style": "",
            "children": [
              "IPY_MODEL_1736d3d3a0d64b60985a19befe71fba5",
              "IPY_MODEL_3ab213e6dd284ac3b003c6c5b3a3e830",
              "IPY_MODEL_81cc9c84d7454f15a73627e91333062a"
            ],
            "layout": "IPY_MODEL_0f862441b28b4999aab58eead1191aa9"
          }
        },
        "1736d3d3a0d64b60985a19befe71fba5": {
          "model_module": "@jupyter-widgets/controls",
          "model_name": "DropdownModel",
          "model_module_version": "1.5.0",
          "state": {
            "_dom_classes": [],
            "_model_module": "@jupyter-widgets/controls",
            "_model_module_version": "1.5.0",
            "_model_name": "DropdownModel",
            "_options_labels": [
              "Sex",
              "Embarked"
            ],
            "_view_count": null,
            "_view_module": "@jupyter-widgets/controls",
            "_view_module_version": "1.5.0",
            "_view_name": "DropdownView",
            "description": "feature",
            "description_tooltip": null,
            "disabled": false,
            "index": 0,
            "layout": "IPY_MODEL_6c7a4c94175f4894bd2aae0df6200957",
            "style": "IPY_MODEL_c937a71262d8400a86ff8ace2ac44dba"
          }
        },
        "3ab213e6dd284ac3b003c6c5b3a3e830": {
          "model_module": "@jupyter-widgets/controls",
          "model_name": "IntSliderModel",
          "model_module_version": "1.5.0",
          "state": {
            "_dom_classes": [],
            "_model_module": "@jupyter-widgets/controls",
            "_model_module_version": "1.5.0",
            "_model_name": "IntSliderModel",
            "_view_count": null,
            "_view_module": "@jupyter-widgets/controls",
            "_view_module_version": "1.5.0",
            "_view_name": "IntSliderView",
            "continuous_update": true,
            "description": "split",
            "description_tooltip": null,
            "disabled": false,
            "layout": "IPY_MODEL_2f1b30dbe107432e84297cc89395eacf",
            "max": 3,
            "min": -1,
            "orientation": "horizontal",
            "readout": true,
            "readout_format": "d",
            "step": 1,
            "style": "IPY_MODEL_6f772ca5e5ed48c5a0430a86ceb40dbd",
            "value": 1
          }
        },
        "81cc9c84d7454f15a73627e91333062a": {
          "model_module": "@jupyter-widgets/output",
          "model_name": "OutputModel",
          "model_module_version": "1.0.0",
          "state": {
            "_dom_classes": [],
            "_model_module": "@jupyter-widgets/output",
            "_model_module_version": "1.0.0",
            "_model_name": "OutputModel",
            "_view_count": null,
            "_view_module": "@jupyter-widgets/output",
            "_view_module_version": "1.0.0",
            "_view_name": "OutputView",
            "layout": "IPY_MODEL_17b4cfb4bec848d793510a5c768da992",
            "msg_id": "",
            "outputs": [
              {
                "output_type": "display_data",
                "data": {
                  "text/plain": "0.48955690829816184"
                },
                "metadata": {}
              }
            ]
          }
        },
        "0f862441b28b4999aab58eead1191aa9": {
          "model_module": "@jupyter-widgets/base",
          "model_name": "LayoutModel",
          "model_module_version": "1.2.0",
          "state": {
            "_model_module": "@jupyter-widgets/base",
            "_model_module_version": "1.2.0",
            "_model_name": "LayoutModel",
            "_view_count": null,
            "_view_module": "@jupyter-widgets/base",
            "_view_module_version": "1.2.0",
            "_view_name": "LayoutView",
            "align_content": null,
            "align_items": null,
            "align_self": null,
            "border": null,
            "bottom": null,
            "display": null,
            "flex": null,
            "flex_flow": null,
            "grid_area": null,
            "grid_auto_columns": null,
            "grid_auto_flow": null,
            "grid_auto_rows": null,
            "grid_column": null,
            "grid_gap": null,
            "grid_row": null,
            "grid_template_areas": null,
            "grid_template_columns": null,
            "grid_template_rows": null,
            "height": null,
            "justify_content": null,
            "justify_items": null,
            "left": null,
            "margin": null,
            "max_height": null,
            "max_width": null,
            "min_height": null,
            "min_width": null,
            "object_fit": null,
            "object_position": null,
            "order": null,
            "overflow": null,
            "overflow_x": null,
            "overflow_y": null,
            "padding": null,
            "right": null,
            "top": null,
            "visibility": null,
            "width": null
          }
        },
        "6c7a4c94175f4894bd2aae0df6200957": {
          "model_module": "@jupyter-widgets/base",
          "model_name": "LayoutModel",
          "model_module_version": "1.2.0",
          "state": {
            "_model_module": "@jupyter-widgets/base",
            "_model_module_version": "1.2.0",
            "_model_name": "LayoutModel",
            "_view_count": null,
            "_view_module": "@jupyter-widgets/base",
            "_view_module_version": "1.2.0",
            "_view_name": "LayoutView",
            "align_content": null,
            "align_items": null,
            "align_self": null,
            "border": null,
            "bottom": null,
            "display": null,
            "flex": null,
            "flex_flow": null,
            "grid_area": null,
            "grid_auto_columns": null,
            "grid_auto_flow": null,
            "grid_auto_rows": null,
            "grid_column": null,
            "grid_gap": null,
            "grid_row": null,
            "grid_template_areas": null,
            "grid_template_columns": null,
            "grid_template_rows": null,
            "height": null,
            "justify_content": null,
            "justify_items": null,
            "left": null,
            "margin": null,
            "max_height": null,
            "max_width": null,
            "min_height": null,
            "min_width": null,
            "object_fit": null,
            "object_position": null,
            "order": null,
            "overflow": null,
            "overflow_x": null,
            "overflow_y": null,
            "padding": null,
            "right": null,
            "top": null,
            "visibility": null,
            "width": null
          }
        },
        "c937a71262d8400a86ff8ace2ac44dba": {
          "model_module": "@jupyter-widgets/controls",
          "model_name": "DescriptionStyleModel",
          "model_module_version": "1.5.0",
          "state": {
            "_model_module": "@jupyter-widgets/controls",
            "_model_module_version": "1.5.0",
            "_model_name": "DescriptionStyleModel",
            "_view_count": null,
            "_view_module": "@jupyter-widgets/base",
            "_view_module_version": "1.2.0",
            "_view_name": "StyleView",
            "description_width": ""
          }
        },
        "2f1b30dbe107432e84297cc89395eacf": {
          "model_module": "@jupyter-widgets/base",
          "model_name": "LayoutModel",
          "model_module_version": "1.2.0",
          "state": {
            "_model_module": "@jupyter-widgets/base",
            "_model_module_version": "1.2.0",
            "_model_name": "LayoutModel",
            "_view_count": null,
            "_view_module": "@jupyter-widgets/base",
            "_view_module_version": "1.2.0",
            "_view_name": "LayoutView",
            "align_content": null,
            "align_items": null,
            "align_self": null,
            "border": null,
            "bottom": null,
            "display": null,
            "flex": null,
            "flex_flow": null,
            "grid_area": null,
            "grid_auto_columns": null,
            "grid_auto_flow": null,
            "grid_auto_rows": null,
            "grid_column": null,
            "grid_gap": null,
            "grid_row": null,
            "grid_template_areas": null,
            "grid_template_columns": null,
            "grid_template_rows": null,
            "height": null,
            "justify_content": null,
            "justify_items": null,
            "left": null,
            "margin": null,
            "max_height": null,
            "max_width": null,
            "min_height": null,
            "min_width": null,
            "object_fit": null,
            "object_position": null,
            "order": null,
            "overflow": null,
            "overflow_x": null,
            "overflow_y": null,
            "padding": null,
            "right": null,
            "top": null,
            "visibility": null,
            "width": null
          }
        },
        "6f772ca5e5ed48c5a0430a86ceb40dbd": {
          "model_module": "@jupyter-widgets/controls",
          "model_name": "SliderStyleModel",
          "model_module_version": "1.5.0",
          "state": {
            "_model_module": "@jupyter-widgets/controls",
            "_model_module_version": "1.5.0",
            "_model_name": "SliderStyleModel",
            "_view_count": null,
            "_view_module": "@jupyter-widgets/base",
            "_view_module_version": "1.2.0",
            "_view_name": "StyleView",
            "description_width": "",
            "handle_color": null
          }
        },
        "17b4cfb4bec848d793510a5c768da992": {
          "model_module": "@jupyter-widgets/base",
          "model_name": "LayoutModel",
          "model_module_version": "1.2.0",
          "state": {
            "_model_module": "@jupyter-widgets/base",
            "_model_module_version": "1.2.0",
            "_model_name": "LayoutModel",
            "_view_count": null,
            "_view_module": "@jupyter-widgets/base",
            "_view_module_version": "1.2.0",
            "_view_name": "LayoutView",
            "align_content": null,
            "align_items": null,
            "align_self": null,
            "border": null,
            "bottom": null,
            "display": null,
            "flex": null,
            "flex_flow": null,
            "grid_area": null,
            "grid_auto_columns": null,
            "grid_auto_flow": null,
            "grid_auto_rows": null,
            "grid_column": null,
            "grid_gap": null,
            "grid_row": null,
            "grid_template_areas": null,
            "grid_template_columns": null,
            "grid_template_rows": null,
            "height": null,
            "justify_content": null,
            "justify_items": null,
            "left": null,
            "margin": null,
            "max_height": null,
            "max_width": null,
            "min_height": null,
            "min_width": null,
            "object_fit": null,
            "object_position": null,
            "order": null,
            "overflow": null,
            "overflow_x": null,
            "overflow_y": null,
            "padding": null,
            "right": null,
            "top": null,
            "visibility": null,
            "width": null
          }
        }
      }
    }
  },
  "cells": [
    {
      "cell_type": "markdown",
      "metadata": {
        "id": "view-in-github",
        "colab_type": "text"
      },
      "source": [
        "<a href=\"https://colab.research.google.com/github/not-sid-29/building-scratch-neural-nets/blob/main/Random_forests.ipynb\" target=\"_parent\"><img src=\"https://colab.research.google.com/assets/colab-badge.svg\" alt=\"Open In Colab\"/></a>"
      ]
    },
    {
      "cell_type": "markdown",
      "source": [
        "# Random Forest on tabular data:"
      ],
      "metadata": {
        "id": "2DBRnCRoKC9b"
      }
    },
    {
      "cell_type": "markdown",
      "source": [
        "**Dataset used:** [Titanic Survival Dataset](https://www.kaggle.com/competitions/titanic)"
      ],
      "metadata": {
        "id": "oyyq6CBwKMa6"
      }
    },
    {
      "cell_type": "code",
      "execution_count": null,
      "metadata": {
        "id": "7humZ5A1Jt-P"
      },
      "outputs": [],
      "source": [
        "#basic imports for data:\n",
        "from fastai.imports import *\n",
        "np.set_printoptions(linewidth=150)"
      ]
    },
    {
      "cell_type": "markdown",
      "source": [
        "## I. Data Preprocessing"
      ],
      "metadata": {
        "id": "RrMkI-kOK1XD"
      }
    },
    {
      "cell_type": "markdown",
      "source": [
        "- Downloading the dataset:"
      ],
      "metadata": {
        "id": "XrCn9i4KK761"
      }
    },
    {
      "cell_type": "code",
      "source": [
        "#basic shell commands required for colab environment:\n",
        "\n",
        "!mkdir ~/.kaggle\n",
        "!mv /content/kaggle.json ~/.kaggle/kaggle.json\n",
        "!chmod 600 /root/.kaggle/kaggle.json\n"
      ],
      "metadata": {
        "id": "eAE0w8n1LW4R"
      },
      "execution_count": null,
      "outputs": []
    },
    {
      "cell_type": "code",
      "source": [
        "import os\n",
        "from pathlib import Path\n",
        "is_kaggle = os.environ.get(\"KAGGLE_KERNEL_RUN_TYPE\", \"\")\n",
        "\n",
        "if is_kaggle:\n",
        "  path = Path(\"../input/titanic\")\n",
        "else:\n",
        "  import zipfile,kaggle\n",
        "  path = Path('titanic')\n",
        "  kaggle.api.competition_download_cli(str(path))\n",
        "  zipfile.ZipFile(f'{path}.zip').extractall(path)\n",
        "\n"
      ],
      "metadata": {
        "colab": {
          "base_uri": "https://localhost:8080/"
        },
        "id": "w0XZjKT9KnkJ",
        "outputId": "be0a9a2d-3626-407e-b04f-76950b3d52a0"
      },
      "execution_count": null,
      "outputs": [
        {
          "output_type": "stream",
          "name": "stdout",
          "text": [
            "Downloading titanic.zip to /content\n"
          ]
        },
        {
          "output_type": "stream",
          "name": "stderr",
          "text": [
            "100%|██████████| 34.1k/34.1k [00:00<00:00, 11.9MB/s]"
          ]
        },
        {
          "output_type": "stream",
          "name": "stdout",
          "text": [
            "\n"
          ]
        },
        {
          "output_type": "stream",
          "name": "stderr",
          "text": [
            "\n"
          ]
        }
      ]
    },
    {
      "cell_type": "markdown",
      "source": [
        "- Loading the dataset:\n"
      ],
      "metadata": {
        "id": "Rxes68eqMs0N"
      }
    },
    {
      "cell_type": "code",
      "source": [
        "df = pd.read_csv(path/'train.csv')\n",
        "test_df = pd.read_csv(path/'test.csv')\n"
      ],
      "metadata": {
        "id": "I0C-PdhCMic9"
      },
      "execution_count": null,
      "outputs": []
    },
    {
      "cell_type": "code",
      "source": [
        "df.head(10)"
      ],
      "metadata": {
        "colab": {
          "base_uri": "https://localhost:8080/",
          "height": 432
        },
        "id": "tXde9M0UNRn2",
        "outputId": "7fe6873d-67df-42df-edc0-3a7dbe058a8c"
      },
      "execution_count": null,
      "outputs": [
        {
          "output_type": "execute_result",
          "data": {
            "text/plain": [
              "   PassengerId  Survived  Pclass  \\\n",
              "0            1         0       3   \n",
              "1            2         1       1   \n",
              "2            3         1       3   \n",
              "3            4         1       1   \n",
              "4            5         0       3   \n",
              "5            6         0       3   \n",
              "6            7         0       1   \n",
              "7            8         0       3   \n",
              "8            9         1       3   \n",
              "9           10         1       2   \n",
              "\n",
              "                                                  Name     Sex   Age  SibSp  \\\n",
              "0                              Braund, Mr. Owen Harris    male  22.0      1   \n",
              "1  Cumings, Mrs. John Bradley (Florence Briggs Thayer)  female  38.0      1   \n",
              "2                               Heikkinen, Miss. Laina  female  26.0      0   \n",
              "3         Futrelle, Mrs. Jacques Heath (Lily May Peel)  female  35.0      1   \n",
              "4                             Allen, Mr. William Henry    male  35.0      0   \n",
              "5                                     Moran, Mr. James    male   NaN      0   \n",
              "6                              McCarthy, Mr. Timothy J    male  54.0      0   \n",
              "7                       Palsson, Master. Gosta Leonard    male   2.0      3   \n",
              "8    Johnson, Mrs. Oscar W (Elisabeth Vilhelmina Berg)  female  27.0      0   \n",
              "9                  Nasser, Mrs. Nicholas (Adele Achem)  female  14.0      1   \n",
              "\n",
              "   Parch            Ticket     Fare Cabin Embarked  \n",
              "0      0         A/5 21171   7.2500   NaN        S  \n",
              "1      0          PC 17599  71.2833   C85        C  \n",
              "2      0  STON/O2. 3101282   7.9250   NaN        S  \n",
              "3      0            113803  53.1000  C123        S  \n",
              "4      0            373450   8.0500   NaN        S  \n",
              "5      0            330877   8.4583   NaN        Q  \n",
              "6      0             17463  51.8625   E46        S  \n",
              "7      1            349909  21.0750   NaN        S  \n",
              "8      2            347742  11.1333   NaN        S  \n",
              "9      0            237736  30.0708   NaN        C  "
            ],
            "text/html": [
              "\n",
              "  <div id=\"df-ae20b465-6a34-429a-b20e-28be07614922\" class=\"colab-df-container\">\n",
              "    <div>\n",
              "<style scoped>\n",
              "    .dataframe tbody tr th:only-of-type {\n",
              "        vertical-align: middle;\n",
              "    }\n",
              "\n",
              "    .dataframe tbody tr th {\n",
              "        vertical-align: top;\n",
              "    }\n",
              "\n",
              "    .dataframe thead th {\n",
              "        text-align: right;\n",
              "    }\n",
              "</style>\n",
              "<table border=\"1\" class=\"dataframe\">\n",
              "  <thead>\n",
              "    <tr style=\"text-align: right;\">\n",
              "      <th></th>\n",
              "      <th>PassengerId</th>\n",
              "      <th>Survived</th>\n",
              "      <th>Pclass</th>\n",
              "      <th>Name</th>\n",
              "      <th>Sex</th>\n",
              "      <th>Age</th>\n",
              "      <th>SibSp</th>\n",
              "      <th>Parch</th>\n",
              "      <th>Ticket</th>\n",
              "      <th>Fare</th>\n",
              "      <th>Cabin</th>\n",
              "      <th>Embarked</th>\n",
              "    </tr>\n",
              "  </thead>\n",
              "  <tbody>\n",
              "    <tr>\n",
              "      <th>0</th>\n",
              "      <td>1</td>\n",
              "      <td>0</td>\n",
              "      <td>3</td>\n",
              "      <td>Braund, Mr. Owen Harris</td>\n",
              "      <td>male</td>\n",
              "      <td>22.0</td>\n",
              "      <td>1</td>\n",
              "      <td>0</td>\n",
              "      <td>A/5 21171</td>\n",
              "      <td>7.2500</td>\n",
              "      <td>NaN</td>\n",
              "      <td>S</td>\n",
              "    </tr>\n",
              "    <tr>\n",
              "      <th>1</th>\n",
              "      <td>2</td>\n",
              "      <td>1</td>\n",
              "      <td>1</td>\n",
              "      <td>Cumings, Mrs. John Bradley (Florence Briggs Thayer)</td>\n",
              "      <td>female</td>\n",
              "      <td>38.0</td>\n",
              "      <td>1</td>\n",
              "      <td>0</td>\n",
              "      <td>PC 17599</td>\n",
              "      <td>71.2833</td>\n",
              "      <td>C85</td>\n",
              "      <td>C</td>\n",
              "    </tr>\n",
              "    <tr>\n",
              "      <th>2</th>\n",
              "      <td>3</td>\n",
              "      <td>1</td>\n",
              "      <td>3</td>\n",
              "      <td>Heikkinen, Miss. Laina</td>\n",
              "      <td>female</td>\n",
              "      <td>26.0</td>\n",
              "      <td>0</td>\n",
              "      <td>0</td>\n",
              "      <td>STON/O2. 3101282</td>\n",
              "      <td>7.9250</td>\n",
              "      <td>NaN</td>\n",
              "      <td>S</td>\n",
              "    </tr>\n",
              "    <tr>\n",
              "      <th>3</th>\n",
              "      <td>4</td>\n",
              "      <td>1</td>\n",
              "      <td>1</td>\n",
              "      <td>Futrelle, Mrs. Jacques Heath (Lily May Peel)</td>\n",
              "      <td>female</td>\n",
              "      <td>35.0</td>\n",
              "      <td>1</td>\n",
              "      <td>0</td>\n",
              "      <td>113803</td>\n",
              "      <td>53.1000</td>\n",
              "      <td>C123</td>\n",
              "      <td>S</td>\n",
              "    </tr>\n",
              "    <tr>\n",
              "      <th>4</th>\n",
              "      <td>5</td>\n",
              "      <td>0</td>\n",
              "      <td>3</td>\n",
              "      <td>Allen, Mr. William Henry</td>\n",
              "      <td>male</td>\n",
              "      <td>35.0</td>\n",
              "      <td>0</td>\n",
              "      <td>0</td>\n",
              "      <td>373450</td>\n",
              "      <td>8.0500</td>\n",
              "      <td>NaN</td>\n",
              "      <td>S</td>\n",
              "    </tr>\n",
              "    <tr>\n",
              "      <th>5</th>\n",
              "      <td>6</td>\n",
              "      <td>0</td>\n",
              "      <td>3</td>\n",
              "      <td>Moran, Mr. James</td>\n",
              "      <td>male</td>\n",
              "      <td>NaN</td>\n",
              "      <td>0</td>\n",
              "      <td>0</td>\n",
              "      <td>330877</td>\n",
              "      <td>8.4583</td>\n",
              "      <td>NaN</td>\n",
              "      <td>Q</td>\n",
              "    </tr>\n",
              "    <tr>\n",
              "      <th>6</th>\n",
              "      <td>7</td>\n",
              "      <td>0</td>\n",
              "      <td>1</td>\n",
              "      <td>McCarthy, Mr. Timothy J</td>\n",
              "      <td>male</td>\n",
              "      <td>54.0</td>\n",
              "      <td>0</td>\n",
              "      <td>0</td>\n",
              "      <td>17463</td>\n",
              "      <td>51.8625</td>\n",
              "      <td>E46</td>\n",
              "      <td>S</td>\n",
              "    </tr>\n",
              "    <tr>\n",
              "      <th>7</th>\n",
              "      <td>8</td>\n",
              "      <td>0</td>\n",
              "      <td>3</td>\n",
              "      <td>Palsson, Master. Gosta Leonard</td>\n",
              "      <td>male</td>\n",
              "      <td>2.0</td>\n",
              "      <td>3</td>\n",
              "      <td>1</td>\n",
              "      <td>349909</td>\n",
              "      <td>21.0750</td>\n",
              "      <td>NaN</td>\n",
              "      <td>S</td>\n",
              "    </tr>\n",
              "    <tr>\n",
              "      <th>8</th>\n",
              "      <td>9</td>\n",
              "      <td>1</td>\n",
              "      <td>3</td>\n",
              "      <td>Johnson, Mrs. Oscar W (Elisabeth Vilhelmina Berg)</td>\n",
              "      <td>female</td>\n",
              "      <td>27.0</td>\n",
              "      <td>0</td>\n",
              "      <td>2</td>\n",
              "      <td>347742</td>\n",
              "      <td>11.1333</td>\n",
              "      <td>NaN</td>\n",
              "      <td>S</td>\n",
              "    </tr>\n",
              "    <tr>\n",
              "      <th>9</th>\n",
              "      <td>10</td>\n",
              "      <td>1</td>\n",
              "      <td>2</td>\n",
              "      <td>Nasser, Mrs. Nicholas (Adele Achem)</td>\n",
              "      <td>female</td>\n",
              "      <td>14.0</td>\n",
              "      <td>1</td>\n",
              "      <td>0</td>\n",
              "      <td>237736</td>\n",
              "      <td>30.0708</td>\n",
              "      <td>NaN</td>\n",
              "      <td>C</td>\n",
              "    </tr>\n",
              "  </tbody>\n",
              "</table>\n",
              "</div>\n",
              "    <div class=\"colab-df-buttons\">\n",
              "\n",
              "  <div class=\"colab-df-container\">\n",
              "    <button class=\"colab-df-convert\" onclick=\"convertToInteractive('df-ae20b465-6a34-429a-b20e-28be07614922')\"\n",
              "            title=\"Convert this dataframe to an interactive table.\"\n",
              "            style=\"display:none;\">\n",
              "\n",
              "  <svg xmlns=\"http://www.w3.org/2000/svg\" height=\"24px\" viewBox=\"0 -960 960 960\">\n",
              "    <path d=\"M120-120v-720h720v720H120Zm60-500h600v-160H180v160Zm220 220h160v-160H400v160Zm0 220h160v-160H400v160ZM180-400h160v-160H180v160Zm440 0h160v-160H620v160ZM180-180h160v-160H180v160Zm440 0h160v-160H620v160Z\"/>\n",
              "  </svg>\n",
              "    </button>\n",
              "\n",
              "  <style>\n",
              "    .colab-df-container {\n",
              "      display:flex;\n",
              "      gap: 12px;\n",
              "    }\n",
              "\n",
              "    .colab-df-convert {\n",
              "      background-color: #E8F0FE;\n",
              "      border: none;\n",
              "      border-radius: 50%;\n",
              "      cursor: pointer;\n",
              "      display: none;\n",
              "      fill: #1967D2;\n",
              "      height: 32px;\n",
              "      padding: 0 0 0 0;\n",
              "      width: 32px;\n",
              "    }\n",
              "\n",
              "    .colab-df-convert:hover {\n",
              "      background-color: #E2EBFA;\n",
              "      box-shadow: 0px 1px 2px rgba(60, 64, 67, 0.3), 0px 1px 3px 1px rgba(60, 64, 67, 0.15);\n",
              "      fill: #174EA6;\n",
              "    }\n",
              "\n",
              "    .colab-df-buttons div {\n",
              "      margin-bottom: 4px;\n",
              "    }\n",
              "\n",
              "    [theme=dark] .colab-df-convert {\n",
              "      background-color: #3B4455;\n",
              "      fill: #D2E3FC;\n",
              "    }\n",
              "\n",
              "    [theme=dark] .colab-df-convert:hover {\n",
              "      background-color: #434B5C;\n",
              "      box-shadow: 0px 1px 3px 1px rgba(0, 0, 0, 0.15);\n",
              "      filter: drop-shadow(0px 1px 2px rgba(0, 0, 0, 0.3));\n",
              "      fill: #FFFFFF;\n",
              "    }\n",
              "  </style>\n",
              "\n",
              "    <script>\n",
              "      const buttonEl =\n",
              "        document.querySelector('#df-ae20b465-6a34-429a-b20e-28be07614922 button.colab-df-convert');\n",
              "      buttonEl.style.display =\n",
              "        google.colab.kernel.accessAllowed ? 'block' : 'none';\n",
              "\n",
              "      async function convertToInteractive(key) {\n",
              "        const element = document.querySelector('#df-ae20b465-6a34-429a-b20e-28be07614922');\n",
              "        const dataTable =\n",
              "          await google.colab.kernel.invokeFunction('convertToInteractive',\n",
              "                                                    [key], {});\n",
              "        if (!dataTable) return;\n",
              "\n",
              "        const docLinkHtml = 'Like what you see? Visit the ' +\n",
              "          '<a target=\"_blank\" href=https://colab.research.google.com/notebooks/data_table.ipynb>data table notebook</a>'\n",
              "          + ' to learn more about interactive tables.';\n",
              "        element.innerHTML = '';\n",
              "        dataTable['output_type'] = 'display_data';\n",
              "        await google.colab.output.renderOutput(dataTable, element);\n",
              "        const docLink = document.createElement('div');\n",
              "        docLink.innerHTML = docLinkHtml;\n",
              "        element.appendChild(docLink);\n",
              "      }\n",
              "    </script>\n",
              "  </div>\n",
              "\n",
              "\n",
              "<div id=\"df-52f8bd6a-bb6b-4146-9cdd-85e288a24838\">\n",
              "  <button class=\"colab-df-quickchart\" onclick=\"quickchart('df-52f8bd6a-bb6b-4146-9cdd-85e288a24838')\"\n",
              "            title=\"Suggest charts\"\n",
              "            style=\"display:none;\">\n",
              "\n",
              "<svg xmlns=\"http://www.w3.org/2000/svg\" height=\"24px\"viewBox=\"0 0 24 24\"\n",
              "     width=\"24px\">\n",
              "    <g>\n",
              "        <path d=\"M19 3H5c-1.1 0-2 .9-2 2v14c0 1.1.9 2 2 2h14c1.1 0 2-.9 2-2V5c0-1.1-.9-2-2-2zM9 17H7v-7h2v7zm4 0h-2V7h2v10zm4 0h-2v-4h2v4z\"/>\n",
              "    </g>\n",
              "</svg>\n",
              "  </button>\n",
              "\n",
              "<style>\n",
              "  .colab-df-quickchart {\n",
              "      --bg-color: #E8F0FE;\n",
              "      --fill-color: #1967D2;\n",
              "      --hover-bg-color: #E2EBFA;\n",
              "      --hover-fill-color: #174EA6;\n",
              "      --disabled-fill-color: #AAA;\n",
              "      --disabled-bg-color: #DDD;\n",
              "  }\n",
              "\n",
              "  [theme=dark] .colab-df-quickchart {\n",
              "      --bg-color: #3B4455;\n",
              "      --fill-color: #D2E3FC;\n",
              "      --hover-bg-color: #434B5C;\n",
              "      --hover-fill-color: #FFFFFF;\n",
              "      --disabled-bg-color: #3B4455;\n",
              "      --disabled-fill-color: #666;\n",
              "  }\n",
              "\n",
              "  .colab-df-quickchart {\n",
              "    background-color: var(--bg-color);\n",
              "    border: none;\n",
              "    border-radius: 50%;\n",
              "    cursor: pointer;\n",
              "    display: none;\n",
              "    fill: var(--fill-color);\n",
              "    height: 32px;\n",
              "    padding: 0;\n",
              "    width: 32px;\n",
              "  }\n",
              "\n",
              "  .colab-df-quickchart:hover {\n",
              "    background-color: var(--hover-bg-color);\n",
              "    box-shadow: 0 1px 2px rgba(60, 64, 67, 0.3), 0 1px 3px 1px rgba(60, 64, 67, 0.15);\n",
              "    fill: var(--button-hover-fill-color);\n",
              "  }\n",
              "\n",
              "  .colab-df-quickchart-complete:disabled,\n",
              "  .colab-df-quickchart-complete:disabled:hover {\n",
              "    background-color: var(--disabled-bg-color);\n",
              "    fill: var(--disabled-fill-color);\n",
              "    box-shadow: none;\n",
              "  }\n",
              "\n",
              "  .colab-df-spinner {\n",
              "    border: 2px solid var(--fill-color);\n",
              "    border-color: transparent;\n",
              "    border-bottom-color: var(--fill-color);\n",
              "    animation:\n",
              "      spin 1s steps(1) infinite;\n",
              "  }\n",
              "\n",
              "  @keyframes spin {\n",
              "    0% {\n",
              "      border-color: transparent;\n",
              "      border-bottom-color: var(--fill-color);\n",
              "      border-left-color: var(--fill-color);\n",
              "    }\n",
              "    20% {\n",
              "      border-color: transparent;\n",
              "      border-left-color: var(--fill-color);\n",
              "      border-top-color: var(--fill-color);\n",
              "    }\n",
              "    30% {\n",
              "      border-color: transparent;\n",
              "      border-left-color: var(--fill-color);\n",
              "      border-top-color: var(--fill-color);\n",
              "      border-right-color: var(--fill-color);\n",
              "    }\n",
              "    40% {\n",
              "      border-color: transparent;\n",
              "      border-right-color: var(--fill-color);\n",
              "      border-top-color: var(--fill-color);\n",
              "    }\n",
              "    60% {\n",
              "      border-color: transparent;\n",
              "      border-right-color: var(--fill-color);\n",
              "    }\n",
              "    80% {\n",
              "      border-color: transparent;\n",
              "      border-right-color: var(--fill-color);\n",
              "      border-bottom-color: var(--fill-color);\n",
              "    }\n",
              "    90% {\n",
              "      border-color: transparent;\n",
              "      border-bottom-color: var(--fill-color);\n",
              "    }\n",
              "  }\n",
              "</style>\n",
              "\n",
              "  <script>\n",
              "    async function quickchart(key) {\n",
              "      const quickchartButtonEl =\n",
              "        document.querySelector('#' + key + ' button');\n",
              "      quickchartButtonEl.disabled = true;  // To prevent multiple clicks.\n",
              "      quickchartButtonEl.classList.add('colab-df-spinner');\n",
              "      try {\n",
              "        const charts = await google.colab.kernel.invokeFunction(\n",
              "            'suggestCharts', [key], {});\n",
              "      } catch (error) {\n",
              "        console.error('Error during call to suggestCharts:', error);\n",
              "      }\n",
              "      quickchartButtonEl.classList.remove('colab-df-spinner');\n",
              "      quickchartButtonEl.classList.add('colab-df-quickchart-complete');\n",
              "    }\n",
              "    (() => {\n",
              "      let quickchartButtonEl =\n",
              "        document.querySelector('#df-52f8bd6a-bb6b-4146-9cdd-85e288a24838 button');\n",
              "      quickchartButtonEl.style.display =\n",
              "        google.colab.kernel.accessAllowed ? 'block' : 'none';\n",
              "    })();\n",
              "  </script>\n",
              "</div>\n",
              "    </div>\n",
              "  </div>\n"
            ]
          },
          "metadata": {},
          "execution_count": 5
        }
      ]
    },
    {
      "cell_type": "markdown",
      "source": [
        "- Data Preprocessing:"
      ],
      "metadata": {
        "id": "-O3tiiVANAg4"
      }
    },
    {
      "cell_type": "code",
      "source": [
        "import pandas as pd\n",
        "\n",
        "modes = df.mode().iloc[0]\n",
        "\n",
        "\n",
        "def preproc_data(df):\n",
        "  df['Fare'] = df.Fare.fillna(0)\n",
        "  df.fillna(modes, inplace = True)\n",
        "  df['LogFare'] = np.log1p(df['Fare']) #converting Fare values to Log(fare + 1), to scale the data\n",
        "  df['Embarked'] = pd.Categorical(df.Embarked)\n",
        "  df['Sex'] = pd.Categorical(df.Sex)\n",
        "\n",
        "\n",
        "\n",
        "preproc_data(df)\n",
        "preproc_data(test_df)\n",
        "\n"
      ],
      "metadata": {
        "id": "JX6-d4ETM-7Q"
      },
      "execution_count": null,
      "outputs": []
    },
    {
      "cell_type": "code",
      "source": [
        "df.info()"
      ],
      "metadata": {
        "colab": {
          "base_uri": "https://localhost:8080/"
        },
        "id": "rwf0KaQ0sdw5",
        "outputId": "0360668f-945f-4fb5-e797-53bb407e1482"
      },
      "execution_count": null,
      "outputs": [
        {
          "output_type": "stream",
          "name": "stdout",
          "text": [
            "<class 'pandas.core.frame.DataFrame'>\n",
            "RangeIndex: 891 entries, 0 to 890\n",
            "Data columns (total 13 columns):\n",
            " #   Column       Non-Null Count  Dtype   \n",
            "---  ------       --------------  -----   \n",
            " 0   PassengerId  891 non-null    int64   \n",
            " 1   Survived     891 non-null    int64   \n",
            " 2   Pclass       891 non-null    int64   \n",
            " 3   Name         891 non-null    object  \n",
            " 4   Sex          891 non-null    category\n",
            " 5   Age          891 non-null    float64 \n",
            " 6   SibSp        891 non-null    int64   \n",
            " 7   Parch        891 non-null    int64   \n",
            " 8   Ticket       891 non-null    object  \n",
            " 9   Fare         891 non-null    float64 \n",
            " 10  Cabin        891 non-null    object  \n",
            " 11  Embarked     891 non-null    category\n",
            " 12  LogFare      891 non-null    float64 \n",
            "dtypes: category(2), float64(3), int64(5), object(3)\n",
            "memory usage: 78.7+ KB\n"
          ]
        }
      ]
    },
    {
      "cell_type": "code",
      "source": [
        "#Creating a list of A)Continous Features; B)Categorical Features; C)Dependent Features.\n",
        "\n",
        "categorical = [\"Sex\", \"Embarked\"]\n",
        "continous = [\"Age\", \"SibSp\", \"Parch\", \"LogFare\", \"Pclass\"]\n",
        "dependent = \"Survived\"\n"
      ],
      "metadata": {
        "id": "2p-WSut4Oi50"
      },
      "execution_count": null,
      "outputs": []
    },
    {
      "cell_type": "code",
      "source": [
        "#How does pd.Categorical affect the Sex Column\n",
        "\n",
        "df.Sex.head(5)"
      ],
      "metadata": {
        "colab": {
          "base_uri": "https://localhost:8080/"
        },
        "id": "IZCMz-NAsvRT",
        "outputId": "f91b3d1c-3018-4454-8f36-df486312306d"
      },
      "execution_count": null,
      "outputs": [
        {
          "output_type": "execute_result",
          "data": {
            "text/plain": [
              "0      male\n",
              "1    female\n",
              "2    female\n",
              "3    female\n",
              "4      male\n",
              "Name: Sex, dtype: category\n",
              "Categories (2, object): ['female', 'male']"
            ]
          },
          "metadata": {},
          "execution_count": 9
        }
      ]
    },
    {
      "cell_type": "code",
      "source": [
        "df.Sex.cat.codes.head(5)"
      ],
      "metadata": {
        "colab": {
          "base_uri": "https://localhost:8080/"
        },
        "id": "xBC0QaTNs5Op",
        "outputId": "bc9a404f-75d6-4bfa-ecd2-e0bf237856b1"
      },
      "execution_count": null,
      "outputs": [
        {
          "output_type": "execute_result",
          "data": {
            "text/plain": [
              "0    1\n",
              "1    0\n",
              "2    0\n",
              "3    0\n",
              "4    1\n",
              "dtype: int8"
            ]
          },
          "metadata": {},
          "execution_count": 10
        }
      ]
    },
    {
      "cell_type": "markdown",
      "source": [
        "- Behind the scenes, it stores the Male, Female as numeric values.<br>\n",
        "\n",
        "\n",
        "> 1 == Male<br>\n",
        "\n",
        "\n",
        "> 0 == Female\n",
        "\n",
        "\n",
        "\n"
      ],
      "metadata": {
        "id": "O5lryHrbs__B"
      }
    },
    {
      "cell_type": "markdown",
      "source": [
        "## II. Binary Splits: <br>\n",
        "\n",
        "\n",
        "\n",
        "> A Gradient Boosting Machine(GBMs) or RandomForests is an ensemble of Decision Trees.\n",
        "\n",
        "\n",
        "> And Decision Trees are an ensemble of Binary Splits(Categorizing the data into 2 classes/categories)\n",
        "\n",
        "\n",
        "\n"
      ],
      "metadata": {
        "id": "vRxPbQ3etU-W"
      }
    },
    {
      "cell_type": "code",
      "source": [
        "import seaborn as sns\n",
        "\n",
        "\n",
        "fig, axs = plt.subplots(1, 2, figsize = (12, 6))\n",
        "\n",
        "sns.barplot(data=df, y=dependent, x=\"Sex\", ax=axs[0]).set(title=\"Survival Rate as per Sex\")\n",
        "sns.countplot(data=df, x=\"Sex\", ax=axs[1]).set(title=\"Distribution as per Sex\")"
      ],
      "metadata": {
        "colab": {
          "base_uri": "https://localhost:8080/",
          "height": 581
        },
        "id": "wOzTZV47s-eS",
        "outputId": "3713e92c-b4df-4372-a391-e1fbfcc58dfe"
      },
      "execution_count": null,
      "outputs": [
        {
          "output_type": "execute_result",
          "data": {
            "text/plain": [
              "[Text(0.5, 1.0, 'Distribution as per Sex')]"
            ]
          },
          "metadata": {},
          "execution_count": 11
        },
        {
          "output_type": "display_data",
          "data": {
            "text/plain": [
              "<Figure size 1200x600 with 2 Axes>"
            ],
            "image/png": "[encoded data removed]"
          },
          "metadata": {}
        }
      ]
    },
    {
      "cell_type": "markdown",
      "source": [
        "- **Insights from the graph**:<br>\n",
        "1. The survival rate for female is much higher as compared to males,(survival is >70% for females, and ~20% for males)<br>\n",
        "2. The number of passengers are 300 females and >500 for males"
      ],
      "metadata": {
        "id": "LZHckjXyxS8v"
      }
    },
    {
      "cell_type": "markdown",
      "source": [
        "### Creating a base model or a dumb model: that predicts only Females Survived and no Males survived.\n"
      ],
      "metadata": {
        "id": "ENBm5h8044xh"
      }
    },
    {
      "cell_type": "code",
      "source": [
        "\n",
        "from numpy import random\n",
        "from sklearn.model_selection import train_test_split\n",
        "\n",
        "random.seed(24)\n",
        "train_df, valid_df = train_test_split(df, test_size=0.30)\n",
        "train_df[categorical] = train_df[categorical].apply(lambda x: x.cat.codes)\n",
        "valid_df[categorical] = valid_df[categorical].apply(lambda x: x.cat.codes)"
      ],
      "metadata": {
        "id": "8Qe6zByOuY00"
      },
      "execution_count": null,
      "outputs": []
    },
    {
      "cell_type": "code",
      "source": [
        "#Creating the dependent(y variable) and independent variable(x variable)\n",
        "\n",
        "def create_variables(df):\n",
        "  xs = df[categorical+continous].copy()\n",
        "  return xs, df[dependent] if dependent in df else None\n",
        "\n",
        "\n",
        "train_xs, train_y = create_variables(train_df)\n",
        "valid_xs, valid_y = create_variables(valid_df)"
      ],
      "metadata": {
        "id": "X8cx-Ct8yuXG"
      },
      "execution_count": null,
      "outputs": []
    },
    {
      "cell_type": "code",
      "source": [
        "#Creating predictions using a dumb model:\n",
        "\n",
        "\n",
        "preds = valid_xs.Sex==0\n",
        "preds"
      ],
      "metadata": {
        "colab": {
          "base_uri": "https://localhost:8080/"
        },
        "id": "fDSt9YUz4M_T",
        "outputId": "506e1683-c073-4b19-f16b-ce54d59bb575"
      },
      "execution_count": null,
      "outputs": [
        {
          "output_type": "execute_result",
          "data": {
            "text/plain": [
              "169    False\n",
              "556     True\n",
              "206    False\n",
              "71      True\n",
              "677     True\n",
              "       ...  \n",
              "88      True\n",
              "494    False\n",
              "316     True\n",
              "153    False\n",
              "802    False\n",
              "Name: Sex, Length: 268, dtype: bool"
            ]
          },
          "metadata": {},
          "execution_count": 14
        }
      ]
    },
    {
      "cell_type": "code",
      "source": [
        "from sklearn.metrics import mean_absolute_error\n",
        "\n",
        "mean_absolute_error(valid_y, preds)"
      ],
      "metadata": {
        "colab": {
          "base_uri": "https://localhost:8080/"
        },
        "id": "tIAG7EkR6oYf",
        "outputId": "d72f0c07-37ce-4ade-86a7-b47be1b64112"
      },
      "execution_count": null,
      "outputs": [
        {
          "output_type": "execute_result",
          "data": {
            "text/plain": [
              "0.19776119402985073"
            ]
          },
          "metadata": {},
          "execution_count": 15
        }
      ]
    },
    {
      "cell_type": "markdown",
      "source": [
        "the MAE on the \"Sex\" split is 0.197, ie. our base model predicts the Survival based on sex, with an accuracy of ~81%"
      ],
      "metadata": {
        "id": "1HoiHi2hBz5y"
      }
    },
    {
      "cell_type": "markdown",
      "source": [
        "### Creating a Binary Split model on LogFare splits:"
      ],
      "metadata": {
        "id": "gxoB79nhydWw"
      }
    },
    {
      "cell_type": "code",
      "source": [
        "df_fare = train_df[train_df.LogFare > 0]\n",
        "fig, axs = plt.subplots(1, 2, figsize=(12, 6))\n",
        "sns.boxenplot(data=df_fare, x=dependent, y=\"LogFare\", ax=axs[0])\n",
        "sns.kdeplot(data=df_fare, x=\"LogFare\", ax=axs[1]);"
      ],
      "metadata": {
        "id": "kLmc8uaE7oYx",
        "colab": {
          "base_uri": "https://localhost:8080/",
          "height": 542
        },
        "outputId": "b5373ff7-1357-487e-b159-cfa936b19588"
      },
      "execution_count": null,
      "outputs": [
        {
          "output_type": "display_data",
          "data": {
            "text/plain": [
              "<Figure size 1200x600 with 2 Axes>"
            ],
            "image/png": "[encoded data removed]"
          },
          "metadata": {}
        }
      ]
    },
    {
      "cell_type": "markdown",
      "source": [
        "**Insights**:<br>\n",
        "- Median Fare for Survived=0 is 2.5;<br>\n",
        "\n",
        "- Median Fare for Survived=1 is 3.2.  "
      ],
      "metadata": {
        "id": "ZLhPnS7X2dvD"
      }
    },
    {
      "cell_type": "markdown",
      "source": [
        "**Creating a baseline model with threshold value: 2.7**"
      ],
      "metadata": {
        "id": "xvIfcz-v3EGx"
      }
    },
    {
      "cell_type": "code",
      "source": [
        "preds_fare = valid_xs.LogFare > 2.7\n",
        "mean_absolute_error(valid_y, preds_fare)"
      ],
      "metadata": {
        "colab": {
          "base_uri": "https://localhost:8080/"
        },
        "id": "VfB5DHsR1t1N",
        "outputId": "3fc3539d-2e05-487d-abf6-556ca9a76753"
      },
      "execution_count": null,
      "outputs": [
        {
          "output_type": "execute_result",
          "data": {
            "text/plain": [
              "0.34701492537313433"
            ]
          },
          "metadata": {},
          "execution_count": 17
        }
      ]
    },
    {
      "cell_type": "markdown",
      "source": [
        "Here, the MAE scored for \"LogFare\" splits is around 0.34, hence this baseline model cannot predict as accurately as our \"Sex-Split\" base model\n"
      ],
      "metadata": {
        "id": "si7SpGwUCFKS"
      }
    },
    {
      "cell_type": "code",
      "source": [
        "##Defining a helper function, to help us calculate similarity scores between two groups using standard deviaiation\n",
        "\n",
        "\n",
        "def split_side_score(side, y):\n",
        "  total = side.sum() #sampling the size of side of a split\n",
        "  if total <= 1: #if the group is very very small return 0\n",
        "    return 0\n",
        "  return y[side].std() * total #return the stnd deviation of the predicted values of the split side and multiplying with the size of the split\n"
      ],
      "metadata": {
        "id": "JTHxY9vZ4zn3"
      },
      "execution_count": null,
      "outputs": []
    },
    {
      "cell_type": "code",
      "source": [
        "#Calculating the impurity score on the splits(left-hand side and right-hand side)\n",
        "def similar_score(col, y, split):\n",
        "  left_side = col <= split\n",
        "  return (split_side_score(left_side, y) + split_side_score(~left_side, y))/len(y)"
      ],
      "metadata": {
        "id": "8oUjjwx_Ec3V"
      },
      "execution_count": null,
      "outputs": []
    },
    {
      "cell_type": "markdown",
      "source": [],
      "metadata": {
        "id": "PLZcayqgGr4D"
      }
    },
    {
      "cell_type": "code",
      "source": [
        "similar_score(train_xs[\"Sex\"], train_y, 0.5)"
      ],
      "metadata": {
        "colab": {
          "base_uri": "https://localhost:8080/"
        },
        "id": "rVIavdm-Get8",
        "outputId": "b2efd144-13fa-494b-87c3-5516cf0db2c3"
      },
      "execution_count": null,
      "outputs": [
        {
          "output_type": "execute_result",
          "data": {
            "text/plain": [
              "0.41369862538915464"
            ]
          },
          "metadata": {},
          "execution_count": 20
        }
      ]
    },
    {
      "cell_type": "code",
      "source": [
        "similar_score(train_xs[\"LogFare\"], train_y, 2.7)"
      ],
      "metadata": {
        "id": "tOqvF-B8GnWU",
        "colab": {
          "base_uri": "https://localhost:8080/"
        },
        "outputId": "e40f0e65-b8a5-4a8b-99fc-33c772d9bf3b"
      },
      "execution_count": null,
      "outputs": [
        {
          "output_type": "execute_result",
          "data": {
            "text/plain": [
              "0.47556584743944735"
            ]
          },
          "metadata": {},
          "execution_count": 21
        }
      ]
    },
    {
      "cell_type": "code",
      "source": [
        "df.Age.unique()"
      ],
      "metadata": {
        "colab": {
          "base_uri": "https://localhost:8080/"
        },
        "id": "feCZuZSBDsCD",
        "outputId": "7def5701-cbc9-49a3-8311-4602cab599da"
      },
      "execution_count": null,
      "outputs": [
        {
          "output_type": "execute_result",
          "data": {
            "text/plain": [
              "array([22.  , 38.  , 26.  , 35.  , 24.  , 54.  ,  2.  , 27.  , 14.  ,  4.  , 58.  , 20.  , 39.  , 55.  , 31.  , 34.  , 15.  , 28.  ,  8.  , 19.  ,\n",
              "       40.  , 66.  , 42.  , 21.  , 18.  ,  3.  ,  7.  , 49.  , 29.  , 65.  , 28.5 ,  5.  , 11.  , 45.  , 17.  , 32.  , 16.  , 25.  ,  0.83, 30.  ,\n",
              "       33.  , 23.  , 46.  , 59.  , 71.  , 37.  , 47.  , 14.5 , 70.5 , 32.5 , 12.  ,  9.  , 36.5 , 51.  , 55.5 , 40.5 , 44.  ,  1.  , 61.  , 56.  ,\n",
              "       50.  , 36.  , 45.5 , 20.5 , 62.  , 41.  , 52.  , 63.  , 23.5 ,  0.92, 43.  , 60.  , 10.  , 64.  , 13.  , 48.  ,  0.75, 53.  , 57.  , 80.  ,\n",
              "       70.  , 24.5 ,  6.  ,  0.67, 30.5 ,  0.42, 34.5 , 74.  ])"
            ]
          },
          "metadata": {},
          "execution_count": 22
        }
      ]
    },
    {
      "cell_type": "code",
      "source": [
        "#Creating a GUI to create a widget that shows us the \"similar_score\" amongst the features present in the dataset.\n",
        "\n",
        "def calc_score(feature, split):\n",
        "  cols = train_xs[feature]\n",
        "  return similar_score(cols, train_y, split)\n",
        "\n",
        "#For continous features:\n",
        "from ipywidgets import interact\n",
        "\n",
        "interact(feature=continous, split=15)(calc_score);"
      ],
      "metadata": {
        "id": "G7RePR94vDVX",
        "colab": {
          "base_uri": "https://localhost:8080/",
          "height": 98,
          "referenced_widgets": [
            "cf4ecec24e1a42eab54644bcce3a0cc1",
            "1ff8c6cb6f674523b4e315ef587fc35c",
            "686e8905eb70449dab31dce855655a93",
            "ac9734802b68452ead40b44a701549a5",
            "9bb1db95df244babba9396babab5833d",
            "7be1a949306f44c8b3334055e7dae977",
            "088a3ad24b694bd28887beb6a2a30cc2",
            "28e976fe32d04c2f88ab3530102a2021",
            "c9499f290a224544813235be81852eb4",
            "6ca92d58ca0640a19343703e2530ad5a"
          ]
        },
        "outputId": "0b85663e-7e90-4060-f987-dff2b50911d7"
      },
      "execution_count": null,
      "outputs": [
        {
          "output_type": "display_data",
          "data": {
            "text/plain": [
              "interactive(children=(Dropdown(description='feature', options=('Age', 'SibSp', 'Parch', 'LogFare', 'Pclass'), …"
            ],
            "application/vnd.jupyter.widget-view+json": {
              "version_major": 2,
              "version_minor": 0,
              "model_id": "cf4ecec24e1a42eab54644bcce3a0cc1"
            }
          },
          "metadata": {}
        }
      ]
    },
    {
      "cell_type": "code",
      "source": [
        "#For categorical feature\n",
        "\n",
        "interact(feature=categorical, split=1)(calc_score);"
      ],
      "metadata": {
        "colab": {
          "base_uri": "https://localhost:8080/",
          "height": 98,
          "referenced_widgets": [
            "a5b6191c89fb434d81a98acea0479848",
            "1736d3d3a0d64b60985a19befe71fba5",
            "3ab213e6dd284ac3b003c6c5b3a3e830",
            "81cc9c84d7454f15a73627e91333062a",
            "0f862441b28b4999aab58eead1191aa9",
            "6c7a4c94175f4894bd2aae0df6200957",
            "c937a71262d8400a86ff8ace2ac44dba",
            "2f1b30dbe107432e84297cc89395eacf",
            "6f772ca5e5ed48c5a0430a86ceb40dbd",
            "17b4cfb4bec848d793510a5c768da992"
          ]
        },
        "id": "ASw-_ghWD4sA",
        "outputId": "31249484-7ee4-4d49-f5a5-e54b4314a273"
      },
      "execution_count": null,
      "outputs": [
        {
          "output_type": "display_data",
          "data": {
            "text/plain": [
              "interactive(children=(Dropdown(description='feature', options=('Sex', 'Embarked'), value='Sex'), IntSlider(val…"
            ],
            "application/vnd.jupyter.widget-view+json": {
              "version_major": 2,
              "version_minor": 0,
              "model_id": "a5b6191c89fb434d81a98acea0479848"
            }
          },
          "metadata": {}
        }
      ]
    },
    {
      "cell_type": "markdown",
      "source": [
        "- **Automating the process of selecting best splits**:"
      ],
      "metadata": {
        "id": "-r7pfIFHGVdO"
      }
    },
    {
      "cell_type": "code",
      "source": [
        "feature = \"Age\" #automating the best split for age\n",
        "col = train_xs[feature]\n",
        "unique_vals = col.unique()\n",
        "unique_vals.sort()\n",
        "unique_vals"
      ],
      "metadata": {
        "colab": {
          "base_uri": "https://localhost:8080/"
        },
        "id": "_3iTS8GQEg7N",
        "outputId": "540040e8-6560-44bc-abba-c955cc89e2f0"
      },
      "execution_count": null,
      "outputs": [
        {
          "output_type": "execute_result",
          "data": {
            "text/plain": [
              "array([ 0.42,  0.67,  0.75,  0.83,  0.92,  1.  ,  2.  ,  3.  ,  4.  ,  5.  ,  6.  ,  7.  ,  8.  ,  9.  , 10.  , 11.  , 13.  , 14.  , 15.  , 16.  ,\n",
              "       17.  , 18.  , 19.  , 20.  , 20.5 , 21.  , 22.  , 23.  , 23.5 , 24.  , 24.5 , 25.  , 26.  , 27.  , 28.  , 28.5 , 29.  , 30.  , 30.5 , 31.  ,\n",
              "       32.  , 32.5 , 33.  , 34.  , 34.5 , 35.  , 36.  , 36.5 , 37.  , 38.  , 39.  , 40.  , 40.5 , 41.  , 42.  , 43.  , 44.  , 45.  , 45.5 , 46.  ,\n",
              "       47.  , 48.  , 49.  , 50.  , 51.  , 52.  , 53.  , 54.  , 55.  , 55.5 , 57.  , 58.  , 59.  , 60.  , 61.  , 62.  , 63.  , 64.  , 65.  , 70.  ,\n",
              "       71.  , 74.  ])"
            ]
          },
          "metadata": {},
          "execution_count": 25
        }
      ]
    },
    {
      "cell_type": "code",
      "source": [
        "scores = np.array([similar_score(col, train_y, o) for o in unique_vals if not np.isnan(o)])\n",
        "unique_vals[scores.argmin()]"
      ],
      "metadata": {
        "colab": {
          "base_uri": "https://localhost:8080/"
        },
        "id": "gCLQTnzXJWz5",
        "outputId": "029a6191-3760-41b7-f3fa-c583a5dc9f33"
      },
      "execution_count": null,
      "outputs": [
        {
          "output_type": "execute_result",
          "data": {
            "text/plain": [
              "0.92"
            ]
          },
          "metadata": {},
          "execution_count": 26
        }
      ]
    },
    {
      "cell_type": "markdown",
      "source": [
        "**Remarks**:<br>\n",
        "1. The minimum cutoff for \"Age\" feature for the best split comes out to be 0.92"
      ],
      "metadata": {
        "id": "6hlyjNu_KcYs"
      }
    },
    {
      "cell_type": "code",
      "source": [
        "#Defining a helper function to find out the best splits for all the features in data:\n",
        "\n",
        "def minSplit(df, feature):\n",
        "  col, y = df[feature], df[dependent]\n",
        "  unique_vals = col.dropna().unique()\n",
        "  scores = np.array([similar_score(col, y, o) for o in unique_vals if not np.isnan(o)])\n",
        "  idx = scores.argmin()\n",
        "  return unique_vals[idx], scores[idx]"
      ],
      "metadata": {
        "id": "58G2dyQoKamS"
      },
      "execution_count": null,
      "outputs": []
    },
    {
      "cell_type": "code",
      "source": [
        "minSplit(train_df, feature=\"Age\")"
      ],
      "metadata": {
        "colab": {
          "base_uri": "https://localhost:8080/"
        },
        "id": "8dfVCl4uLlDL",
        "outputId": "e64992f0-3d67-4fb2-80b3-18b5ab374e29"
      },
      "execution_count": null,
      "outputs": [
        {
          "output_type": "execute_result",
          "data": {
            "text/plain": [
              "(0.92, 0.48357809829077847)"
            ]
          },
          "metadata": {},
          "execution_count": 28
        }
      ]
    },
    {
      "cell_type": "code",
      "source": [
        "#For all present columns in the dataset:\n",
        "\n",
        "features = continous + categorical\n",
        "\n",
        "{o : minSplit(train_df, o) for o in features}"
      ],
      "metadata": {
        "colab": {
          "base_uri": "https://localhost:8080/"
        },
        "id": "G4hUKL9oLsiC",
        "outputId": "7681653a-b915-4901-b73d-3cc8b7e0d751"
      },
      "execution_count": null,
      "outputs": [
        {
          "output_type": "execute_result",
          "data": {
            "text/plain": [
              "{'Age': (0.92, 0.48357809829077847),\n",
              " 'SibSp': (3, 0.4832519077393656),\n",
              " 'Parch': (0, 0.4846610524256157),\n",
              " 'LogFare': (3.970291913552122, 0.46782085131297524),\n",
              " 'Pclass': (2, 0.4668681738579788),\n",
              " 'Sex': (0, 0.41369862538915464),\n",
              " 'Embarked': (1, 0.48440522462648106)}"
            ]
          },
          "metadata": {},
          "execution_count": 29
        }
      ]
    },
    {
      "cell_type": "markdown",
      "source": [
        "- This model approach is the **OneR** classifier\n"
      ],
      "metadata": {
        "id": "tGilRxlrVEba"
      }
    },
    {
      "cell_type": "markdown",
      "source": [
        "## III. Creating a DecisionTree model to improve our OneR classifier:"
      ],
      "metadata": {
        "id": "v-856oWgVKR7"
      }
    },
    {
      "cell_type": "markdown",
      "source": [
        "**Improvement of OneR Classifier:**<br>\n",
        "1. We can make sub-splits for every group, ex. this approach can define *best split for males* and *best split for females* to improve the accuracy of the model"
      ],
      "metadata": {
        "id": "kpzauAywVPZZ"
      }
    },
    {
      "cell_type": "code",
      "source": [
        "features"
      ],
      "metadata": {
        "id": "NxZslYQpMcjk",
        "colab": {
          "base_uri": "https://localhost:8080/"
        },
        "outputId": "c07ca4e4-a82f-4db0-f740-40ef13c662da"
      },
      "execution_count": null,
      "outputs": [
        {
          "output_type": "execute_result",
          "data": {
            "text/plain": [
              "['Age', 'SibSp', 'Parch', 'LogFare', 'Pclass', 'Sex', 'Embarked']"
            ]
          },
          "metadata": {},
          "execution_count": 30
        }
      ]
    },
    {
      "cell_type": "code",
      "source": [
        "features.remove(\"Sex\")\n",
        "\n",
        "is_male = train_df.Sex==1\n",
        "males, females = train_df[is_male], train_df[~is_male]\n"
      ],
      "metadata": {
        "id": "7Mniw5bTXS0Z"
      },
      "execution_count": null,
      "outputs": []
    },
    {
      "cell_type": "markdown",
      "source": [
        "**Finding best splits for *Males* and *Females***"
      ],
      "metadata": {
        "id": "uPz9IY-sYsL7"
      }
    },
    {
      "cell_type": "code",
      "source": [
        "{o : minSplit(males, o) for o in features}"
      ],
      "metadata": {
        "id": "F0IRZfQCYoJ6",
        "colab": {
          "base_uri": "https://localhost:8080/"
        },
        "outputId": "70fda3f2-cf5b-4da0-8a64-bf99f073cda1"
      },
      "execution_count": null,
      "outputs": [
        {
          "output_type": "execute_result",
          "data": {
            "text/plain": [
              "{'Age': (3.0, 0.3875234199820683),\n",
              " 'SibSp': (2, 0.39007198727881687),\n",
              " 'Parch': (0, 0.3959083647237127),\n",
              " 'LogFare': (2.7788192719904172, 0.3849713490050445),\n",
              " 'Pclass': (1, 0.3892004863813556),\n",
              " 'Embarked': (0, 0.39836482268217077)}"
            ]
          },
          "metadata": {},
          "execution_count": 32
        }
      ]
    },
    {
      "cell_type": "code",
      "source": [
        "{f : minSplit(females, f) for f in features}"
      ],
      "metadata": {
        "colab": {
          "base_uri": "https://localhost:8080/"
        },
        "id": "YRb4WsKqil_Z",
        "outputId": "7c916c1b-80fe-4c25-e469-2fdb5e267dad"
      },
      "execution_count": null,
      "outputs": [
        {
          "output_type": "execute_result",
          "data": {
            "text/plain": [
              "{'Age': (50.0, 0.42061229298575675),\n",
              " 'SibSp': (2, 0.4152082762354819),\n",
              " 'Parch': (3, 0.41697085452881855),\n",
              " 'LogFare': (3.8691155044168695, 0.40794137004230346),\n",
              " 'Pclass': (2, 0.3655465770364353),\n",
              " 'Embarked': (0, 0.4270035434368538)}"
            ]
          },
          "metadata": {},
          "execution_count": 33
        }
      ]
    },
    {
      "cell_type": "markdown",
      "source": [
        "**Best Split values and Best Scores**:<br>\n",
        "\n",
        "\n",
        "1.   *Males*:<br>\n",
        "\n",
        "> For __AGE__: 3.0<br>\n",
        "> For __Pclass__: 1\n",
        "\n",
        "\n",
        "2.   *Females*:<br>\n",
        "\n",
        "> For __AGE__: 50.0<br>\n",
        "> For __Pclass__: 2\n",
        "\n"
      ],
      "metadata": {
        "id": "tIma_LhdjDuA"
      }
    },
    {
      "cell_type": "markdown",
      "source": [
        "**Building a DecisionTreeClassifier**:"
      ],
      "metadata": {
        "id": "v7AffuNuka-m"
      }
    },
    {
      "cell_type": "code",
      "source": [
        "from sklearn.tree import DecisionTreeClassifier, export_graphviz\n",
        "\n",
        "dtree = DecisionTreeClassifier(max_leaf_nodes = 6).fit(train_xs, train_y)"
      ],
      "metadata": {
        "id": "g1Cc35mziya5"
      },
      "execution_count": null,
      "outputs": []
    },
    {
      "cell_type": "markdown",
      "source": [
        "- **Visualising the *DecisionTreeClassifier***"
      ],
      "metadata": {
        "id": "iBn4LKtkEDcO"
      }
    },
    {
      "cell_type": "code",
      "source": [
        "import graphviz\n",
        "def draw_dtree(tree_obj, dataframe, size=10, ratio=0.65, precision=2, **kwargs):\n",
        "  s  = export_graphviz(tree_obj, out_file=None, feature_names=dataframe.columns, filled=True, rounded=True,\n",
        "                       special_characters=True, rotate=False, precision=precision, **kwargs)\n",
        "  return graphviz.Source(re.sub('Tree {', f\"Tree {{ size={size}; ratio={ratio}\", s))\n"
      ],
      "metadata": {
        "id": "6AWEefUtD0GU"
      },
      "execution_count": null,
      "outputs": []
    },
    {
      "cell_type": "code",
      "source": [
        "draw_dtree(dtree, train_xs, size=10)"
      ],
      "metadata": {
        "colab": {
          "base_uri": "https://localhost:8080/",
          "height": 518
        },
        "id": "cKysx3lUKyMj",
        "outputId": "45b4319d-838a-48de-950d-ca32bdef11ec"
      },
      "execution_count": null,
      "outputs": [
        {
          "output_type": "execute_result",
          "data": {
            "image/svg+xml": "<?xml version=\"1.0\" encoding=\"UTF-8\" standalone=\"no\"?>\n<!DOCTYPE svg PUBLIC \"-//W3C//DTD SVG 1.1//EN\"\n \"http://www.w3.org/Graphics/SVG/1.1/DTD/svg11.dtd\">\n<!-- Generated by graphviz version 2.43.0 (0)\n -->\n<!-- Title: Tree Pages: 1 -->\n<svg width=\"570pt\" height=\"373pt\"\n viewBox=\"0.00 0.00 569.54 373.00\" xmlns=\"http://www.w3.org/2000/svg\" xmlns:xlink=\"http://www.w3.org/1999/xlink\">\n<g id=\"graph0\" class=\"graph\" transform=\"scale(1 1) rotate(0) translate(4 369)\">\n<title>Tree</title>\n<polygon fill=\"white\" stroke=\"transparent\" points=\"-4,4 -4,-369 565.54,-369 565.54,4 -4,4\"/>\n<!-- 0 -->\n<g id=\"node1\" class=\"node\">\n<title>0</title>\n<path fill=\"#f6d4bb\" stroke=\"black\" d=\"M328.27,-365C328.27,-365 227.27,-365 227.27,-365 221.27,-365 215.27,-359 215.27,-353 215.27,-353 215.27,-309 215.27,-309 215.27,-303 221.27,-297 227.27,-297 227.27,-297 328.27,-297 328.27,-297 334.27,-297 340.27,-303 340.27,-309 340.27,-309 340.27,-353 340.27,-353 340.27,-359 334.27,-365 328.27,-365\"/>\n<text text-anchor=\"start\" x=\"248.77\" y=\"-349.8\" font-family=\"Helvetica,sans-Serif\" font-size=\"14.00\">Sex ≤ 0.5</text>\n<text text-anchor=\"start\" x=\"245.77\" y=\"-334.8\" font-family=\"Helvetica,sans-Serif\" font-size=\"14.00\">gini = 0.48</text>\n<text text-anchor=\"start\" x=\"232.77\" y=\"-319.8\" font-family=\"Helvetica,sans-Serif\" font-size=\"14.00\">samples = 623</text>\n<text text-anchor=\"start\" x=\"223.27\" y=\"-304.8\" font-family=\"Helvetica,sans-Serif\" font-size=\"14.00\">value = [376, 247]</text>\n</g>\n<!-- 1 -->\n<g id=\"node2\" class=\"node\">\n<title>1</title>\n<path fill=\"#7dbeee\" stroke=\"black\" d=\"M249.27,-261C249.27,-261 156.27,-261 156.27,-261 150.27,-261 144.27,-255 144.27,-249 144.27,-249 144.27,-205 144.27,-205 144.27,-199 150.27,-193 156.27,-193 156.27,-193 249.27,-193 249.27,-193 255.27,-193 261.27,-199 261.27,-205 261.27,-205 261.27,-249 261.27,-249 261.27,-255 255.27,-261 249.27,-261\"/>\n<text text-anchor=\"start\" x=\"165.77\" y=\"-245.8\" font-family=\"Helvetica,sans-Serif\" font-size=\"14.00\">Pclass ≤ 2.5</text>\n<text text-anchor=\"start\" x=\"170.77\" y=\"-230.8\" font-family=\"Helvetica,sans-Serif\" font-size=\"14.00\">gini = 0.38</text>\n<text text-anchor=\"start\" x=\"157.77\" y=\"-215.8\" font-family=\"Helvetica,sans-Serif\" font-size=\"14.00\">samples = 224</text>\n<text text-anchor=\"start\" x=\"152.27\" y=\"-200.8\" font-family=\"Helvetica,sans-Serif\" font-size=\"14.00\">value = [57, 167]</text>\n</g>\n<!-- 0&#45;&gt;1 -->\n<g id=\"edge1\" class=\"edge\">\n<title>0&#45;&gt;1</title>\n<path fill=\"none\" stroke=\"black\" d=\"M253.42,-296.88C247,-288.15 239.99,-278.62 233.29,-269.51\"/>\n<polygon fill=\"black\" stroke=\"black\" points=\"236,-267.28 227.25,-261.3 230.36,-271.43 236,-267.28\"/>\n<text text-anchor=\"middle\" x=\"223.48\" y=\"-282.31\" font-family=\"Helvetica,sans-Serif\" font-size=\"14.00\">True</text>\n</g>\n<!-- 2 -->\n<g id=\"node7\" class=\"node\">\n<title>2</title>\n<path fill=\"#eca16b\" stroke=\"black\" d=\"M400.27,-261C400.27,-261 307.27,-261 307.27,-261 301.27,-261 295.27,-255 295.27,-249 295.27,-249 295.27,-205 295.27,-205 295.27,-199 301.27,-193 307.27,-193 307.27,-193 400.27,-193 400.27,-193 406.27,-193 412.27,-199 412.27,-205 412.27,-205 412.27,-249 412.27,-249 412.27,-255 406.27,-261 400.27,-261\"/>\n<text text-anchor=\"start\" x=\"324.77\" y=\"-245.8\" font-family=\"Helvetica,sans-Serif\" font-size=\"14.00\">Age ≤ 3.5</text>\n<text text-anchor=\"start\" x=\"321.77\" y=\"-230.8\" font-family=\"Helvetica,sans-Serif\" font-size=\"14.00\">gini = 0.32</text>\n<text text-anchor=\"start\" x=\"308.77\" y=\"-215.8\" font-family=\"Helvetica,sans-Serif\" font-size=\"14.00\">samples = 399</text>\n<text text-anchor=\"start\" x=\"303.27\" y=\"-200.8\" font-family=\"Helvetica,sans-Serif\" font-size=\"14.00\">value = [319, 80]</text>\n</g>\n<!-- 0&#45;&gt;2 -->\n<g id=\"edge6\" class=\"edge\">\n<title>0&#45;&gt;2</title>\n<path fill=\"none\" stroke=\"black\" d=\"M302.44,-296.88C308.95,-288.15 316.05,-278.62 322.83,-269.51\"/>\n<polygon fill=\"black\" stroke=\"black\" points=\"325.79,-271.41 328.96,-261.3 320.17,-267.23 325.79,-271.41\"/>\n<text text-anchor=\"middle\" x=\"332.57\" y=\"-282.34\" font-family=\"Helvetica,sans-Serif\" font-size=\"14.00\">False</text>\n</g>\n<!-- 3 -->\n<g id=\"node3\" class=\"node\">\n<title>3</title>\n<path fill=\"#47a4e7\" stroke=\"black\" d=\"M104.77,-149.5C104.77,-149.5 18.77,-149.5 18.77,-149.5 12.77,-149.5 6.77,-143.5 6.77,-137.5 6.77,-137.5 6.77,-108.5 6.77,-108.5 6.77,-102.5 12.77,-96.5 18.77,-96.5 18.77,-96.5 104.77,-96.5 104.77,-96.5 110.77,-96.5 116.77,-102.5 116.77,-108.5 116.77,-108.5 116.77,-137.5 116.77,-137.5 116.77,-143.5 110.77,-149.5 104.77,-149.5\"/>\n<text text-anchor=\"start\" x=\"29.77\" y=\"-134.3\" font-family=\"Helvetica,sans-Serif\" font-size=\"14.00\">gini = 0.12</text>\n<text text-anchor=\"start\" x=\"16.77\" y=\"-119.3\" font-family=\"Helvetica,sans-Serif\" font-size=\"14.00\">samples = 121</text>\n<text text-anchor=\"start\" x=\"14.77\" y=\"-104.3\" font-family=\"Helvetica,sans-Serif\" font-size=\"14.00\">value = [8, 113]</text>\n</g>\n<!-- 1&#45;&gt;3 -->\n<g id=\"edge2\" class=\"edge\">\n<title>1&#45;&gt;3</title>\n<path fill=\"none\" stroke=\"black\" d=\"M156.99,-192.88C140.42,-180.9 121.76,-167.4 105.38,-155.55\"/>\n<polygon fill=\"black\" stroke=\"black\" points=\"107.2,-152.55 97.04,-149.52 103.1,-158.22 107.2,-152.55\"/>\n</g>\n<!-- 4 -->\n<g id=\"node4\" class=\"node\">\n<title>4</title>\n<path fill=\"#edf6fd\" stroke=\"black\" d=\"M247.77,-157C247.77,-157 161.77,-157 161.77,-157 155.77,-157 149.77,-151 149.77,-145 149.77,-145 149.77,-101 149.77,-101 149.77,-95 155.77,-89 161.77,-89 161.77,-89 247.77,-89 247.77,-89 253.77,-89 259.77,-95 259.77,-101 259.77,-101 259.77,-145 259.77,-145 259.77,-151 253.77,-157 247.77,-157\"/>\n<text text-anchor=\"start\" x=\"158.77\" y=\"-141.8\" font-family=\"Helvetica,sans-Serif\" font-size=\"14.00\">LogFare ≤ 3.21</text>\n<text text-anchor=\"start\" x=\"176.77\" y=\"-126.8\" font-family=\"Helvetica,sans-Serif\" font-size=\"14.00\">gini = 0.5</text>\n<text text-anchor=\"start\" x=\"159.77\" y=\"-111.8\" font-family=\"Helvetica,sans-Serif\" font-size=\"14.00\">samples = 103</text>\n<text text-anchor=\"start\" x=\"157.77\" y=\"-96.8\" font-family=\"Helvetica,sans-Serif\" font-size=\"14.00\">value = [49, 54]</text>\n</g>\n<!-- 1&#45;&gt;4 -->\n<g id=\"edge3\" class=\"edge\">\n<title>1&#45;&gt;4</title>\n<path fill=\"none\" stroke=\"black\" d=\"M203.42,-192.88C203.58,-184.78 203.75,-175.98 203.91,-167.47\"/>\n<polygon fill=\"black\" stroke=\"black\" points=\"207.42,-167.37 204.11,-157.3 200.42,-167.23 207.42,-167.37\"/>\n</g>\n<!-- 5 -->\n<g id=\"node5\" class=\"node\">\n<title>5</title>\n<path fill=\"#add6f4\" stroke=\"black\" d=\"M112.77,-52.5C112.77,-52.5 26.77,-52.5 26.77,-52.5 20.77,-52.5 14.77,-46.5 14.77,-40.5 14.77,-40.5 14.77,-11.5 14.77,-11.5 14.77,-5.5 20.77,0.5 26.77,0.5 26.77,0.5 112.77,0.5 112.77,0.5 118.77,0.5 124.77,-5.5 124.77,-11.5 124.77,-11.5 124.77,-40.5 124.77,-40.5 124.77,-46.5 118.77,-52.5 112.77,-52.5\"/>\n<text text-anchor=\"start\" x=\"37.77\" y=\"-37.3\" font-family=\"Helvetica,sans-Serif\" font-size=\"14.00\">gini = 0.47</text>\n<text text-anchor=\"start\" x=\"28.77\" y=\"-22.3\" font-family=\"Helvetica,sans-Serif\" font-size=\"14.00\">samples = 84</text>\n<text text-anchor=\"start\" x=\"22.77\" y=\"-7.3\" font-family=\"Helvetica,sans-Serif\" font-size=\"14.00\">value = [31, 53]</text>\n</g>\n<!-- 4&#45;&gt;5 -->\n<g id=\"edge4\" class=\"edge\">\n<title>4&#45;&gt;5</title>\n<path fill=\"none\" stroke=\"black\" d=\"M157.55,-88.77C143.57,-78.94 128.31,-68.2 114.5,-58.48\"/>\n<polygon fill=\"black\" stroke=\"black\" points=\"116.3,-55.46 106.11,-52.57 112.27,-61.19 116.3,-55.46\"/>\n</g>\n<!-- 6 -->\n<g id=\"node6\" class=\"node\">\n<title>6</title>\n<path fill=\"#e68844\" stroke=\"black\" d=\"M246.77,-52.5C246.77,-52.5 168.77,-52.5 168.77,-52.5 162.77,-52.5 156.77,-46.5 156.77,-40.5 156.77,-40.5 156.77,-11.5 156.77,-11.5 156.77,-5.5 162.77,0.5 168.77,0.5 168.77,0.5 246.77,0.5 246.77,0.5 252.77,0.5 258.77,-5.5 258.77,-11.5 258.77,-11.5 258.77,-40.5 258.77,-40.5 258.77,-46.5 252.77,-52.5 246.77,-52.5\"/>\n<text text-anchor=\"start\" x=\"179.77\" y=\"-37.3\" font-family=\"Helvetica,sans-Serif\" font-size=\"14.00\">gini = 0.1</text>\n<text text-anchor=\"start\" x=\"166.77\" y=\"-22.3\" font-family=\"Helvetica,sans-Serif\" font-size=\"14.00\">samples = 19</text>\n<text text-anchor=\"start\" x=\"164.77\" y=\"-7.3\" font-family=\"Helvetica,sans-Serif\" font-size=\"14.00\">value = [18, 1]</text>\n</g>\n<!-- 4&#45;&gt;6 -->\n<g id=\"edge5\" class=\"edge\">\n<title>4&#45;&gt;6</title>\n<path fill=\"none\" stroke=\"black\" d=\"M205.82,-88.77C206.08,-80.33 206.37,-71.22 206.64,-62.66\"/>\n<polygon fill=\"black\" stroke=\"black\" points=\"210.14,-62.68 206.96,-52.57 203.15,-62.46 210.14,-62.68\"/>\n</g>\n<!-- 7 -->\n<g id=\"node8\" class=\"node\">\n<title>7</title>\n<path fill=\"#74baed\" stroke=\"black\" d=\"M391.77,-149.5C391.77,-149.5 313.77,-149.5 313.77,-149.5 307.77,-149.5 301.77,-143.5 301.77,-137.5 301.77,-137.5 301.77,-108.5 301.77,-108.5 301.77,-102.5 307.77,-96.5 313.77,-96.5 313.77,-96.5 391.77,-96.5 391.77,-96.5 397.77,-96.5 403.77,-102.5 403.77,-108.5 403.77,-108.5 403.77,-137.5 403.77,-137.5 403.77,-143.5 397.77,-149.5 391.77,-149.5\"/>\n<text text-anchor=\"start\" x=\"320.77\" y=\"-134.3\" font-family=\"Helvetica,sans-Serif\" font-size=\"14.00\">gini = 0.36</text>\n<text text-anchor=\"start\" x=\"311.77\" y=\"-119.3\" font-family=\"Helvetica,sans-Serif\" font-size=\"14.00\">samples = 13</text>\n<text text-anchor=\"start\" x=\"309.77\" y=\"-104.3\" font-family=\"Helvetica,sans-Serif\" font-size=\"14.00\">value = [3, 10]</text>\n</g>\n<!-- 2&#45;&gt;7 -->\n<g id=\"edge7\" class=\"edge\">\n<title>2&#45;&gt;7</title>\n<path fill=\"none\" stroke=\"black\" d=\"M353.44,-192.88C353.34,-182.33 353.22,-170.6 353.12,-159.85\"/>\n<polygon fill=\"black\" stroke=\"black\" points=\"356.61,-159.49 353.02,-149.52 349.62,-159.55 356.61,-159.49\"/>\n</g>\n<!-- 8 -->\n<g id=\"node9\" class=\"node\">\n<title>8</title>\n<path fill=\"#eb9d65\" stroke=\"black\" d=\"M542.27,-157C542.27,-157 449.27,-157 449.27,-157 443.27,-157 437.27,-151 437.27,-145 437.27,-145 437.27,-101 437.27,-101 437.27,-95 443.27,-89 449.27,-89 449.27,-89 542.27,-89 542.27,-89 548.27,-89 554.27,-95 554.27,-101 554.27,-101 554.27,-145 554.27,-145 554.27,-151 548.27,-157 542.27,-157\"/>\n<text text-anchor=\"start\" x=\"449.77\" y=\"-141.8\" font-family=\"Helvetica,sans-Serif\" font-size=\"14.00\">LogFare ≤ 3.98</text>\n<text text-anchor=\"start\" x=\"467.77\" y=\"-126.8\" font-family=\"Helvetica,sans-Serif\" font-size=\"14.00\">gini = 0.3</text>\n<text text-anchor=\"start\" x=\"450.77\" y=\"-111.8\" font-family=\"Helvetica,sans-Serif\" font-size=\"14.00\">samples = 386</text>\n<text text-anchor=\"start\" x=\"445.27\" y=\"-96.8\" font-family=\"Helvetica,sans-Serif\" font-size=\"14.00\">value = [316, 70]</text>\n</g>\n<!-- 2&#45;&gt;8 -->\n<g id=\"edge8\" class=\"edge\">\n<title>2&#45;&gt;8</title>\n<path fill=\"none\" stroke=\"black\" d=\"M399.87,-192.88C413.01,-183.44 427.46,-173.06 441.07,-163.29\"/>\n<polygon fill=\"black\" stroke=\"black\" points=\"443.33,-165.98 449.41,-157.3 439.25,-160.29 443.33,-165.98\"/>\n</g>\n<!-- 9 -->\n<g id=\"node10\" class=\"node\">\n<title>9</title>\n<path fill=\"#e9975b\" stroke=\"black\" d=\"M399.27,-52.5C399.27,-52.5 306.27,-52.5 306.27,-52.5 300.27,-52.5 294.27,-46.5 294.27,-40.5 294.27,-40.5 294.27,-11.5 294.27,-11.5 294.27,-5.5 300.27,0.5 306.27,0.5 306.27,0.5 399.27,0.5 399.27,0.5 405.27,0.5 411.27,-5.5 411.27,-11.5 411.27,-11.5 411.27,-40.5 411.27,-40.5 411.27,-46.5 405.27,-52.5 399.27,-52.5\"/>\n<text text-anchor=\"start\" x=\"320.77\" y=\"-37.3\" font-family=\"Helvetica,sans-Serif\" font-size=\"14.00\">gini = 0.25</text>\n<text text-anchor=\"start\" x=\"307.77\" y=\"-22.3\" font-family=\"Helvetica,sans-Serif\" font-size=\"14.00\">samples = 340</text>\n<text text-anchor=\"start\" x=\"302.27\" y=\"-7.3\" font-family=\"Helvetica,sans-Serif\" font-size=\"14.00\">value = [290, 50]</text>\n</g>\n<!-- 8&#45;&gt;9 -->\n<g id=\"edge9\" class=\"edge\">\n<title>8&#45;&gt;9</title>\n<path fill=\"none\" stroke=\"black\" d=\"M445.75,-88.77C430.81,-78.84 414.48,-68 399.73,-58.2\"/>\n<polygon fill=\"black\" stroke=\"black\" points=\"401.52,-55.19 391.26,-52.57 397.65,-61.02 401.52,-55.19\"/>\n</g>\n<!-- 10 -->\n<g id=\"node11\" class=\"node\">\n<title>10</title>\n<path fill=\"#f9e2d1\" stroke=\"black\" d=\"M542.77,-52.5C542.77,-52.5 456.77,-52.5 456.77,-52.5 450.77,-52.5 444.77,-46.5 444.77,-40.5 444.77,-40.5 444.77,-11.5 444.77,-11.5 444.77,-5.5 450.77,0.5 456.77,0.5 456.77,0.5 542.77,0.5 542.77,0.5 548.77,0.5 554.77,-5.5 554.77,-11.5 554.77,-11.5 554.77,-40.5 554.77,-40.5 554.77,-46.5 548.77,-52.5 542.77,-52.5\"/>\n<text text-anchor=\"start\" x=\"467.77\" y=\"-37.3\" font-family=\"Helvetica,sans-Serif\" font-size=\"14.00\">gini = 0.49</text>\n<text text-anchor=\"start\" x=\"458.77\" y=\"-22.3\" font-family=\"Helvetica,sans-Serif\" font-size=\"14.00\">samples = 46</text>\n<text text-anchor=\"start\" x=\"452.77\" y=\"-7.3\" font-family=\"Helvetica,sans-Serif\" font-size=\"14.00\">value = [26, 20]</text>\n</g>\n<!-- 8&#45;&gt;10 -->\n<g id=\"edge10\" class=\"edge\">\n<title>8&#45;&gt;10</title>\n<path fill=\"none\" stroke=\"black\" d=\"M497.17,-88.77C497.52,-80.33 497.9,-71.22 498.27,-62.66\"/>\n<polygon fill=\"black\" stroke=\"black\" points=\"501.77,-62.71 498.69,-52.57 494.77,-62.42 501.77,-62.71\"/>\n</g>\n</g>\n</svg>\n",
            "text/plain": [
              "<graphviz.sources.Source at 0x7d2206f476d0>"
            ]
          },
          "metadata": {},
          "execution_count": 36
        }
      ]
    },
    {
      "cell_type": "code",
      "source": [
        "#Defining a gini impurity function:\n",
        "\n",
        "def gini_impurity(condition):\n",
        "  actual = df.loc[condition, dependent]\n",
        "  return 1 - actual.mean()**2 - (1-actual).mean()**2  #returning the gini impurity\n"
      ],
      "metadata": {
        "id": "NtK9_6jEK3st"
      },
      "execution_count": null,
      "outputs": []
    },
    {
      "cell_type": "code",
      "source": [
        "#calculating Gini Impurity of the Sex-Split:\n",
        "\n",
        "print(gini_impurity(df.Sex=='female'))\n",
        "print(gini_impurity(df.Sex=='male'))\n"
      ],
      "metadata": {
        "id": "xShwx25PMtiT",
        "colab": {
          "base_uri": "https://localhost:8080/"
        },
        "outputId": "d0d6f0d6-b77b-449e-c9f2-115ddd92fb84"
      },
      "execution_count": null,
      "outputs": [
        {
          "output_type": "stream",
          "name": "stdout",
          "text": [
            "0.3828350034484158\n",
            "0.3064437162277842\n"
          ]
        }
      ]
    },
    {
      "cell_type": "markdown",
      "source": [
        "**Comparison of DecisionTree Model Vs. OneR model**"
      ],
      "metadata": {
        "id": "JQOhKvrie8hV"
      }
    },
    {
      "cell_type": "code",
      "source": [
        "mean_absolute_error(valid_y, dtree.predict(valid_xs))"
      ],
      "metadata": {
        "colab": {
          "base_uri": "https://localhost:8080/"
        },
        "id": "qC0AgKucbtDr",
        "outputId": "c5ef6ec4-d067-4617-d1e3-a45ce223c9aa"
      },
      "execution_count": null,
      "outputs": [
        {
          "output_type": "execute_result",
          "data": {
            "text/plain": [
              "0.1828358208955224"
            ]
          },
          "metadata": {},
          "execution_count": 39
        }
      ]
    },
    {
      "cell_type": "markdown",
      "source": [
        "- MAE for DTree model = 0.182<br>\n",
        "- MAE for OneR model = 0.197<br>\n",
        " *Our Decision tree model is slightly better than the OneR model(on Sex split)*"
      ],
      "metadata": {
        "id": "lytYHHvzfScC"
      }
    },
    {
      "cell_type": "code",
      "source": [
        "#Improving the DecisionTree model:\n",
        "\n",
        "dtree_2 = DecisionTreeClassifier(min_samples_leaf=50) #minimum samples per leaf will be 50\n",
        "dtree_2.fit(train_xs, train_y)\n",
        "draw_dtree(dtree_2, train_xs, size=20)"
      ],
      "metadata": {
        "colab": {
          "base_uri": "https://localhost:8080/",
          "height": 1000
        },
        "id": "aqrf_hMWfKXx",
        "outputId": "a7cbbfaf-0682-42ec-bd73-488da9e1b3ac"
      },
      "execution_count": null,
      "outputs": [
        {
          "output_type": "execute_result",
          "data": {
            "image/svg+xml": "<?xml version=\"1.0\" encoding=\"UTF-8\" standalone=\"no\"?>\n<!DOCTYPE svg PUBLIC \"-//W3C//DTD SVG 1.1//EN\"\n \"http://www.w3.org/Graphics/SVG/1.1/DTD/svg11.dtd\">\n<!-- Generated by graphviz version 2.43.0 (0)\n -->\n<!-- Title: Tree Pages: 1 -->\n<svg width=\"1110pt\" height=\"724pt\"\n viewBox=\"0.00 0.00 1110.00 724.30\" xmlns=\"http://www.w3.org/2000/svg\" xmlns:xlink=\"http://www.w3.org/1999/xlink\">\n<g id=\"graph0\" class=\"graph\" transform=\"scale(1 1) rotate(0) translate(4 720.3)\">\n<title>Tree</title>\n<polygon fill=\"white\" stroke=\"transparent\" points=\"-4,4 -4,-720.3 1106,-720.3 1106,4 -4,4\"/>\n<!-- 0 -->\n<g id=\"node1\" class=\"node\">\n<title>0</title>\n<path fill=\"#f6d4bb\" stroke=\"black\" d=\"M537.5,-698C537.5,-698 436.5,-698 436.5,-698 430.5,-698 424.5,-692 424.5,-686 424.5,-686 424.5,-642 424.5,-642 424.5,-636 430.5,-630 436.5,-630 436.5,-630 537.5,-630 537.5,-630 543.5,-630 549.5,-636 549.5,-642 549.5,-642 549.5,-686 549.5,-686 549.5,-692 543.5,-698 537.5,-698\"/>\n<text text-anchor=\"start\" x=\"458\" y=\"-682.8\" font-family=\"Helvetica,sans-Serif\" font-size=\"14.00\">Sex ≤ 0.5</text>\n<text text-anchor=\"start\" x=\"455\" y=\"-667.8\" font-family=\"Helvetica,sans-Serif\" font-size=\"14.00\">gini = 0.48</text>\n<text text-anchor=\"start\" x=\"442\" y=\"-652.8\" font-family=\"Helvetica,sans-Serif\" font-size=\"14.00\">samples = 623</text>\n<text text-anchor=\"start\" x=\"432.5\" y=\"-637.8\" font-family=\"Helvetica,sans-Serif\" font-size=\"14.00\">value = [376, 247]</text>\n</g>\n<!-- 1 -->\n<g id=\"node2\" class=\"node\">\n<title>1</title>\n<path fill=\"#7dbeee\" stroke=\"black\" d=\"M405.5,-540C405.5,-540 312.5,-540 312.5,-540 306.5,-540 300.5,-534 300.5,-528 300.5,-528 300.5,-484 300.5,-484 300.5,-478 306.5,-472 312.5,-472 312.5,-472 405.5,-472 405.5,-472 411.5,-472 417.5,-478 417.5,-484 417.5,-484 417.5,-528 417.5,-528 417.5,-534 411.5,-540 405.5,-540\"/>\n<text text-anchor=\"start\" x=\"322\" y=\"-524.8\" font-family=\"Helvetica,sans-Serif\" font-size=\"14.00\">Pclass ≤ 2.5</text>\n<text text-anchor=\"start\" x=\"327\" y=\"-509.8\" font-family=\"Helvetica,sans-Serif\" font-size=\"14.00\">gini = 0.38</text>\n<text text-anchor=\"start\" x=\"314\" y=\"-494.8\" font-family=\"Helvetica,sans-Serif\" font-size=\"14.00\">samples = 224</text>\n<text text-anchor=\"start\" x=\"308.5\" y=\"-479.8\" font-family=\"Helvetica,sans-Serif\" font-size=\"14.00\">value = [57, 167]</text>\n</g>\n<!-- 0&#45;&gt;1 -->\n<g id=\"edge1\" class=\"edge\">\n<title>0&#45;&gt;1</title>\n<path fill=\"none\" stroke=\"black\" d=\"M459.85,-629.92C440.25,-606.03 413.66,-573.61 392.7,-548.07\"/>\n<polygon fill=\"black\" stroke=\"black\" points=\"395.16,-545.55 386.11,-540.04 389.74,-549.99 395.16,-545.55\"/>\n<text text-anchor=\"middle\" x=\"383.65\" y=\"-561.22\" font-family=\"Helvetica,sans-Serif\" font-size=\"14.00\">True</text>\n</g>\n<!-- 8 -->\n<g id=\"node9\" class=\"node\">\n<title>8</title>\n<path fill=\"#eca16b\" stroke=\"black\" d=\"M667.5,-540C667.5,-540 574.5,-540 574.5,-540 568.5,-540 562.5,-534 562.5,-528 562.5,-528 562.5,-484 562.5,-484 562.5,-478 568.5,-472 574.5,-472 574.5,-472 667.5,-472 667.5,-472 673.5,-472 679.5,-478 679.5,-484 679.5,-484 679.5,-528 679.5,-528 679.5,-534 673.5,-540 667.5,-540\"/>\n<text text-anchor=\"start\" x=\"575\" y=\"-524.8\" font-family=\"Helvetica,sans-Serif\" font-size=\"14.00\">LogFare ≤ 2.78</text>\n<text text-anchor=\"start\" x=\"589\" y=\"-509.8\" font-family=\"Helvetica,sans-Serif\" font-size=\"14.00\">gini = 0.32</text>\n<text text-anchor=\"start\" x=\"576\" y=\"-494.8\" font-family=\"Helvetica,sans-Serif\" font-size=\"14.00\">samples = 399</text>\n<text text-anchor=\"start\" x=\"570.5\" y=\"-479.8\" font-family=\"Helvetica,sans-Serif\" font-size=\"14.00\">value = [319, 80]</text>\n</g>\n<!-- 0&#45;&gt;8 -->\n<g id=\"edge8\" class=\"edge\">\n<title>0&#45;&gt;8</title>\n<path fill=\"none\" stroke=\"black\" d=\"M515.42,-629.92C536.03,-605.92 564.02,-573.33 586.01,-547.74\"/>\n<polygon fill=\"black\" stroke=\"black\" points=\"588.76,-549.9 592.62,-540.04 583.45,-545.34 588.76,-549.9\"/>\n<text text-anchor=\"middle\" x=\"594.51\" y=\"-561.26\" font-family=\"Helvetica,sans-Serif\" font-size=\"14.00\">False</text>\n</g>\n<!-- 2 -->\n<g id=\"node3\" class=\"node\">\n<title>2</title>\n<path fill=\"#47a4e7\" stroke=\"black\" d=\"M214,-381C214,-381 128,-381 128,-381 122,-381 116,-375 116,-369 116,-369 116,-325 116,-325 116,-319 122,-313 128,-313 128,-313 214,-313 214,-313 220,-313 226,-319 226,-325 226,-325 226,-369 226,-369 226,-375 220,-381 214,-381\"/>\n<text text-anchor=\"start\" x=\"128.5\" y=\"-365.8\" font-family=\"Helvetica,sans-Serif\" font-size=\"14.00\">LogFare ≤ 3.4</text>\n<text text-anchor=\"start\" x=\"139\" y=\"-350.8\" font-family=\"Helvetica,sans-Serif\" font-size=\"14.00\">gini = 0.12</text>\n<text text-anchor=\"start\" x=\"126\" y=\"-335.8\" font-family=\"Helvetica,sans-Serif\" font-size=\"14.00\">samples = 121</text>\n<text text-anchor=\"start\" x=\"124\" y=\"-320.8\" font-family=\"Helvetica,sans-Serif\" font-size=\"14.00\">value = [8, 113]</text>\n</g>\n<!-- 1&#45;&gt;2 -->\n<g id=\"edge2\" class=\"edge\">\n<title>1&#45;&gt;2</title>\n<path fill=\"none\" stroke=\"black\" d=\"M319.13,-471.7C289.72,-447.14 249.58,-413.62 218.51,-387.67\"/>\n<polygon fill=\"black\" stroke=\"black\" points=\"220.73,-384.97 210.81,-381.25 216.24,-390.34 220.73,-384.97\"/>\n</g>\n<!-- 5 -->\n<g id=\"node6\" class=\"node\">\n<title>5</title>\n<path fill=\"#edf6fd\" stroke=\"black\" d=\"M402,-381C402,-381 316,-381 316,-381 310,-381 304,-375 304,-369 304,-369 304,-325 304,-325 304,-319 310,-313 316,-313 316,-313 402,-313 402,-313 408,-313 414,-319 414,-325 414,-325 414,-369 414,-369 414,-375 408,-381 402,-381\"/>\n<text text-anchor=\"start\" x=\"313\" y=\"-365.8\" font-family=\"Helvetica,sans-Serif\" font-size=\"14.00\">LogFare ≤ 2.59</text>\n<text text-anchor=\"start\" x=\"331\" y=\"-350.8\" font-family=\"Helvetica,sans-Serif\" font-size=\"14.00\">gini = 0.5</text>\n<text text-anchor=\"start\" x=\"314\" y=\"-335.8\" font-family=\"Helvetica,sans-Serif\" font-size=\"14.00\">samples = 103</text>\n<text text-anchor=\"start\" x=\"312\" y=\"-320.8\" font-family=\"Helvetica,sans-Serif\" font-size=\"14.00\">value = [49, 54]</text>\n</g>\n<!-- 1&#45;&gt;5 -->\n<g id=\"edge5\" class=\"edge\">\n<title>1&#45;&gt;5</title>\n<path fill=\"none\" stroke=\"black\" d=\"M359,-471.7C359,-448.29 359,-416.73 359,-391.35\"/>\n<polygon fill=\"black\" stroke=\"black\" points=\"362.5,-391.25 359,-381.25 355.5,-391.25 362.5,-391.25\"/>\n</g>\n<!-- 3 -->\n<g id=\"node4\" class=\"node\">\n<title>3</title>\n<path fill=\"#52aae8\" stroke=\"black\" d=\"M90,-214.5C90,-214.5 12,-214.5 12,-214.5 6,-214.5 0,-208.5 0,-202.5 0,-202.5 0,-173.5 0,-173.5 0,-167.5 6,-161.5 12,-161.5 12,-161.5 90,-161.5 90,-161.5 96,-161.5 102,-167.5 102,-173.5 102,-173.5 102,-202.5 102,-202.5 102,-208.5 96,-214.5 90,-214.5\"/>\n<text text-anchor=\"start\" x=\"23\" y=\"-199.3\" font-family=\"Helvetica,sans-Serif\" font-size=\"14.00\">gini = 0.2</text>\n<text text-anchor=\"start\" x=\"10\" y=\"-184.3\" font-family=\"Helvetica,sans-Serif\" font-size=\"14.00\">samples = 53</text>\n<text text-anchor=\"start\" x=\"8\" y=\"-169.3\" font-family=\"Helvetica,sans-Serif\" font-size=\"14.00\">value = [6, 47]</text>\n</g>\n<!-- 2&#45;&gt;3 -->\n<g id=\"edge3\" class=\"edge\">\n<title>2&#45;&gt;3</title>\n<path fill=\"none\" stroke=\"black\" d=\"M145.55,-312.7C125.44,-286.39 97.46,-249.79 77.17,-223.24\"/>\n<polygon fill=\"black\" stroke=\"black\" points=\"79.72,-220.81 70.87,-214.99 74.16,-225.06 79.72,-220.81\"/>\n</g>\n<!-- 4 -->\n<g id=\"node5\" class=\"node\">\n<title>4</title>\n<path fill=\"#3fa0e6\" stroke=\"black\" d=\"M210,-214.5C210,-214.5 132,-214.5 132,-214.5 126,-214.5 120,-208.5 120,-202.5 120,-202.5 120,-173.5 120,-173.5 120,-167.5 126,-161.5 132,-161.5 132,-161.5 210,-161.5 210,-161.5 216,-161.5 222,-167.5 222,-173.5 222,-173.5 222,-202.5 222,-202.5 222,-208.5 216,-214.5 210,-214.5\"/>\n<text text-anchor=\"start\" x=\"139\" y=\"-199.3\" font-family=\"Helvetica,sans-Serif\" font-size=\"14.00\">gini = 0.06</text>\n<text text-anchor=\"start\" x=\"130\" y=\"-184.3\" font-family=\"Helvetica,sans-Serif\" font-size=\"14.00\">samples = 68</text>\n<text text-anchor=\"start\" x=\"128\" y=\"-169.3\" font-family=\"Helvetica,sans-Serif\" font-size=\"14.00\">value = [2, 66]</text>\n</g>\n<!-- 2&#45;&gt;4 -->\n<g id=\"edge4\" class=\"edge\">\n<title>2&#45;&gt;4</title>\n<path fill=\"none\" stroke=\"black\" d=\"M171,-312.7C171,-287.07 171,-251.69 171,-225.32\"/>\n<polygon fill=\"black\" stroke=\"black\" points=\"174.5,-224.99 171,-214.99 167.5,-224.99 174.5,-224.99\"/>\n</g>\n<!-- 6 -->\n<g id=\"node7\" class=\"node\">\n<title>6</title>\n<path fill=\"#a8d4f4\" stroke=\"black\" d=\"M338,-214.5C338,-214.5 252,-214.5 252,-214.5 246,-214.5 240,-208.5 240,-202.5 240,-202.5 240,-173.5 240,-173.5 240,-167.5 246,-161.5 252,-161.5 252,-161.5 338,-161.5 338,-161.5 344,-161.5 350,-167.5 350,-173.5 350,-173.5 350,-202.5 350,-202.5 350,-208.5 344,-214.5 338,-214.5\"/>\n<text text-anchor=\"start\" x=\"263\" y=\"-199.3\" font-family=\"Helvetica,sans-Serif\" font-size=\"14.00\">gini = 0.46</text>\n<text text-anchor=\"start\" x=\"254\" y=\"-184.3\" font-family=\"Helvetica,sans-Serif\" font-size=\"14.00\">samples = 53</text>\n<text text-anchor=\"start\" x=\"248\" y=\"-169.3\" font-family=\"Helvetica,sans-Serif\" font-size=\"14.00\">value = [19, 34]</text>\n</g>\n<!-- 5&#45;&gt;6 -->\n<g id=\"edge6\" class=\"edge\">\n<title>5&#45;&gt;6</title>\n<path fill=\"none\" stroke=\"black\" d=\"M345.43,-312.7C334.84,-286.73 320.17,-250.74 309.38,-224.27\"/>\n<polygon fill=\"black\" stroke=\"black\" points=\"312.61,-222.93 305.6,-214.99 306.13,-225.57 312.61,-222.93\"/>\n</g>\n<!-- 7 -->\n<g id=\"node8\" class=\"node\">\n<title>7</title>\n<path fill=\"#f6d5bd\" stroke=\"black\" d=\"M466,-214.5C466,-214.5 380,-214.5 380,-214.5 374,-214.5 368,-208.5 368,-202.5 368,-202.5 368,-173.5 368,-173.5 368,-167.5 374,-161.5 380,-161.5 380,-161.5 466,-161.5 466,-161.5 472,-161.5 478,-167.5 478,-173.5 478,-173.5 478,-202.5 478,-202.5 478,-208.5 472,-214.5 466,-214.5\"/>\n<text text-anchor=\"start\" x=\"391\" y=\"-199.3\" font-family=\"Helvetica,sans-Serif\" font-size=\"14.00\">gini = 0.48</text>\n<text text-anchor=\"start\" x=\"382\" y=\"-184.3\" font-family=\"Helvetica,sans-Serif\" font-size=\"14.00\">samples = 50</text>\n<text text-anchor=\"start\" x=\"376\" y=\"-169.3\" font-family=\"Helvetica,sans-Serif\" font-size=\"14.00\">value = [30, 20]</text>\n</g>\n<!-- 5&#45;&gt;7 -->\n<g id=\"edge7\" class=\"edge\">\n<title>5&#45;&gt;7</title>\n<path fill=\"none\" stroke=\"black\" d=\"M372.57,-312.7C383.16,-286.73 397.83,-250.74 408.62,-224.27\"/>\n<polygon fill=\"black\" stroke=\"black\" points=\"411.87,-225.57 412.4,-214.99 405.39,-222.93 411.87,-225.57\"/>\n</g>\n<!-- 9 -->\n<g id=\"node10\" class=\"node\">\n<title>9</title>\n<path fill=\"#e99355\" stroke=\"black\" d=\"M667.5,-381C667.5,-381 574.5,-381 574.5,-381 568.5,-381 562.5,-375 562.5,-369 562.5,-369 562.5,-325 562.5,-325 562.5,-319 568.5,-313 574.5,-313 574.5,-313 667.5,-313 667.5,-313 673.5,-313 679.5,-319 679.5,-325 679.5,-325 679.5,-369 679.5,-369 679.5,-375 673.5,-381 667.5,-381\"/>\n<text text-anchor=\"start\" x=\"575\" y=\"-365.8\" font-family=\"Helvetica,sans-Serif\" font-size=\"14.00\">LogFare ≤ 2.19</text>\n<text text-anchor=\"start\" x=\"589\" y=\"-350.8\" font-family=\"Helvetica,sans-Serif\" font-size=\"14.00\">gini = 0.22</text>\n<text text-anchor=\"start\" x=\"576\" y=\"-335.8\" font-family=\"Helvetica,sans-Serif\" font-size=\"14.00\">samples = 235</text>\n<text text-anchor=\"start\" x=\"570.5\" y=\"-320.8\" font-family=\"Helvetica,sans-Serif\" font-size=\"14.00\">value = [206, 29]</text>\n</g>\n<!-- 8&#45;&gt;9 -->\n<g id=\"edge9\" class=\"edge\">\n<title>8&#45;&gt;9</title>\n<path fill=\"none\" stroke=\"black\" d=\"M621,-471.7C621,-448.29 621,-416.73 621,-391.35\"/>\n<polygon fill=\"black\" stroke=\"black\" points=\"624.5,-391.25 621,-381.25 617.5,-391.25 624.5,-391.25\"/>\n</g>\n<!-- 16 -->\n<g id=\"node17\" class=\"node\">\n<title>16</title>\n<path fill=\"#f1ba92\" stroke=\"black\" d=\"M965.5,-381C965.5,-381 872.5,-381 872.5,-381 866.5,-381 860.5,-375 860.5,-369 860.5,-369 860.5,-325 860.5,-325 860.5,-319 866.5,-313 872.5,-313 872.5,-313 965.5,-313 965.5,-313 971.5,-313 977.5,-319 977.5,-325 977.5,-325 977.5,-369 977.5,-369 977.5,-375 971.5,-381 965.5,-381\"/>\n<text text-anchor=\"start\" x=\"873\" y=\"-365.8\" font-family=\"Helvetica,sans-Serif\" font-size=\"14.00\">LogFare ≤ 3.96</text>\n<text text-anchor=\"start\" x=\"887\" y=\"-350.8\" font-family=\"Helvetica,sans-Serif\" font-size=\"14.00\">gini = 0.43</text>\n<text text-anchor=\"start\" x=\"874\" y=\"-335.8\" font-family=\"Helvetica,sans-Serif\" font-size=\"14.00\">samples = 164</text>\n<text text-anchor=\"start\" x=\"868.5\" y=\"-320.8\" font-family=\"Helvetica,sans-Serif\" font-size=\"14.00\">value = [113, 51]</text>\n</g>\n<!-- 8&#45;&gt;16 -->\n<g id=\"edge16\" class=\"edge\">\n<title>8&#45;&gt;16</title>\n<path fill=\"none\" stroke=\"black\" d=\"M679.52,-474.17C728.85,-448.18 799.47,-410.97 851.25,-383.7\"/>\n<polygon fill=\"black\" stroke=\"black\" points=\"853.14,-386.65 860.36,-378.89 849.88,-380.46 853.14,-386.65\"/>\n</g>\n<!-- 10 -->\n<g id=\"node11\" class=\"node\">\n<title>10</title>\n<path fill=\"#e89050\" stroke=\"black\" d=\"M601.5,-222C601.5,-222 508.5,-222 508.5,-222 502.5,-222 496.5,-216 496.5,-210 496.5,-210 496.5,-166 496.5,-166 496.5,-160 502.5,-154 508.5,-154 508.5,-154 601.5,-154 601.5,-154 607.5,-154 613.5,-160 613.5,-166 613.5,-166 613.5,-210 613.5,-210 613.5,-216 607.5,-222 601.5,-222\"/>\n<text text-anchor=\"start\" x=\"509\" y=\"-206.8\" font-family=\"Helvetica,sans-Serif\" font-size=\"14.00\">LogFare ≤ 2.12</text>\n<text text-anchor=\"start\" x=\"523\" y=\"-191.8\" font-family=\"Helvetica,sans-Serif\" font-size=\"14.00\">gini = 0.19</text>\n<text text-anchor=\"start\" x=\"510\" y=\"-176.8\" font-family=\"Helvetica,sans-Serif\" font-size=\"14.00\">samples = 124</text>\n<text text-anchor=\"start\" x=\"504.5\" y=\"-161.8\" font-family=\"Helvetica,sans-Serif\" font-size=\"14.00\">value = [111, 13]</text>\n</g>\n<!-- 9&#45;&gt;10 -->\n<g id=\"edge10\" class=\"edge\">\n<title>9&#45;&gt;10</title>\n<path fill=\"none\" stroke=\"black\" d=\"M607,-312.7C597.07,-289.08 583.66,-257.17 572.94,-231.67\"/>\n<polygon fill=\"black\" stroke=\"black\" points=\"576.08,-230.11 568.98,-222.25 569.63,-232.82 576.08,-230.11\"/>\n</g>\n<!-- 13 -->\n<g id=\"node14\" class=\"node\">\n<title>13</title>\n<path fill=\"#e9965a\" stroke=\"black\" d=\"M730,-222C730,-222 644,-222 644,-222 638,-222 632,-216 632,-210 632,-210 632,-166 632,-166 632,-160 638,-154 644,-154 644,-154 730,-154 730,-154 736,-154 742,-160 742,-166 742,-166 742,-210 742,-210 742,-216 736,-222 730,-222\"/>\n<text text-anchor=\"start\" x=\"641\" y=\"-206.8\" font-family=\"Helvetica,sans-Serif\" font-size=\"14.00\">LogFare ≤ 2.29</text>\n<text text-anchor=\"start\" x=\"655\" y=\"-191.8\" font-family=\"Helvetica,sans-Serif\" font-size=\"14.00\">gini = 0.25</text>\n<text text-anchor=\"start\" x=\"642\" y=\"-176.8\" font-family=\"Helvetica,sans-Serif\" font-size=\"14.00\">samples = 111</text>\n<text text-anchor=\"start\" x=\"640\" y=\"-161.8\" font-family=\"Helvetica,sans-Serif\" font-size=\"14.00\">value = [95, 16]</text>\n</g>\n<!-- 9&#45;&gt;13 -->\n<g id=\"edge13\" class=\"edge\">\n<title>9&#45;&gt;13</title>\n<path fill=\"none\" stroke=\"black\" d=\"M635,-312.7C644.93,-289.08 658.34,-257.17 669.06,-231.67\"/>\n<polygon fill=\"black\" stroke=\"black\" points=\"672.37,-232.82 673.02,-222.25 665.92,-230.11 672.37,-232.82\"/>\n</g>\n<!-- 11 -->\n<g id=\"node12\" class=\"node\">\n<title>11</title>\n<path fill=\"#e89153\" stroke=\"black\" d=\"M474,-66.5C474,-66.5 396,-66.5 396,-66.5 390,-66.5 384,-60.5 384,-54.5 384,-54.5 384,-25.5 384,-25.5 384,-19.5 390,-13.5 396,-13.5 396,-13.5 474,-13.5 474,-13.5 480,-13.5 486,-19.5 486,-25.5 486,-25.5 486,-54.5 486,-54.5 486,-60.5 480,-66.5 474,-66.5\"/>\n<text text-anchor=\"start\" x=\"407\" y=\"-51.3\" font-family=\"Helvetica,sans-Serif\" font-size=\"14.00\">gini = 0.2</text>\n<text text-anchor=\"start\" x=\"394\" y=\"-36.3\" font-family=\"Helvetica,sans-Serif\" font-size=\"14.00\">samples = 52</text>\n<text text-anchor=\"start\" x=\"392\" y=\"-21.3\" font-family=\"Helvetica,sans-Serif\" font-size=\"14.00\">value = [46, 6]</text>\n</g>\n<!-- 10&#45;&gt;11 -->\n<g id=\"edge11\" class=\"edge\">\n<title>10&#45;&gt;11</title>\n<path fill=\"none\" stroke=\"black\" d=\"M527.77,-153.87C508.26,-130.14 482.09,-98.29 462.51,-74.48\"/>\n<polygon fill=\"black\" stroke=\"black\" points=\"465.2,-72.23 456.15,-66.73 459.8,-76.68 465.2,-72.23\"/>\n</g>\n<!-- 12 -->\n<g id=\"node13\" class=\"node\">\n<title>12</title>\n<path fill=\"#e88f4e\" stroke=\"black\" d=\"M594,-66.5C594,-66.5 516,-66.5 516,-66.5 510,-66.5 504,-60.5 504,-54.5 504,-54.5 504,-25.5 504,-25.5 504,-19.5 510,-13.5 516,-13.5 516,-13.5 594,-13.5 594,-13.5 600,-13.5 606,-19.5 606,-25.5 606,-25.5 606,-54.5 606,-54.5 606,-60.5 600,-66.5 594,-66.5\"/>\n<text text-anchor=\"start\" x=\"523\" y=\"-51.3\" font-family=\"Helvetica,sans-Serif\" font-size=\"14.00\">gini = 0.18</text>\n<text text-anchor=\"start\" x=\"514\" y=\"-36.3\" font-family=\"Helvetica,sans-Serif\" font-size=\"14.00\">samples = 72</text>\n<text text-anchor=\"start\" x=\"512\" y=\"-21.3\" font-family=\"Helvetica,sans-Serif\" font-size=\"14.00\">value = [65, 7]</text>\n</g>\n<!-- 10&#45;&gt;12 -->\n<g id=\"edge12\" class=\"edge\">\n<title>10&#45;&gt;12</title>\n<path fill=\"none\" stroke=\"black\" d=\"M555,-153.87C555,-130.96 555,-100.49 555,-76.99\"/>\n<polygon fill=\"black\" stroke=\"black\" points=\"558.5,-76.73 555,-66.73 551.5,-76.73 558.5,-76.73\"/>\n</g>\n<!-- 14 -->\n<g id=\"node15\" class=\"node\">\n<title>14</title>\n<path fill=\"#eb9d64\" stroke=\"black\" d=\"M714,-66.5C714,-66.5 636,-66.5 636,-66.5 630,-66.5 624,-60.5 624,-54.5 624,-54.5 624,-25.5 624,-25.5 624,-19.5 630,-13.5 636,-13.5 636,-13.5 714,-13.5 714,-13.5 720,-13.5 726,-19.5 726,-25.5 726,-25.5 726,-54.5 726,-54.5 726,-60.5 720,-66.5 714,-66.5\"/>\n<text text-anchor=\"start\" x=\"647\" y=\"-51.3\" font-family=\"Helvetica,sans-Serif\" font-size=\"14.00\">gini = 0.3</text>\n<text text-anchor=\"start\" x=\"634\" y=\"-36.3\" font-family=\"Helvetica,sans-Serif\" font-size=\"14.00\">samples = 50</text>\n<text text-anchor=\"start\" x=\"632\" y=\"-21.3\" font-family=\"Helvetica,sans-Serif\" font-size=\"14.00\">value = [41, 9]</text>\n</g>\n<!-- 13&#45;&gt;14 -->\n<g id=\"edge14\" class=\"edge\">\n<title>13&#45;&gt;14</title>\n<path fill=\"none\" stroke=\"black\" d=\"M684.28,-153.87C682.39,-130.96 679.89,-100.49 677.96,-76.99\"/>\n<polygon fill=\"black\" stroke=\"black\" points=\"681.42,-76.41 677.11,-66.73 674.45,-76.98 681.42,-76.41\"/>\n</g>\n<!-- 15 -->\n<g id=\"node16\" class=\"node\">\n<title>15</title>\n<path fill=\"#e89153\" stroke=\"black\" d=\"M834,-66.5C834,-66.5 756,-66.5 756,-66.5 750,-66.5 744,-60.5 744,-54.5 744,-54.5 744,-25.5 744,-25.5 744,-19.5 750,-13.5 756,-13.5 756,-13.5 834,-13.5 834,-13.5 840,-13.5 846,-19.5 846,-25.5 846,-25.5 846,-54.5 846,-54.5 846,-60.5 840,-66.5 834,-66.5\"/>\n<text text-anchor=\"start\" x=\"767\" y=\"-51.3\" font-family=\"Helvetica,sans-Serif\" font-size=\"14.00\">gini = 0.2</text>\n<text text-anchor=\"start\" x=\"754\" y=\"-36.3\" font-family=\"Helvetica,sans-Serif\" font-size=\"14.00\">samples = 61</text>\n<text text-anchor=\"start\" x=\"752\" y=\"-21.3\" font-family=\"Helvetica,sans-Serif\" font-size=\"14.00\">value = [54, 7]</text>\n</g>\n<!-- 13&#45;&gt;15 -->\n<g id=\"edge15\" class=\"edge\">\n<title>13&#45;&gt;15</title>\n<path fill=\"none\" stroke=\"black\" d=\"M711.51,-153.87C728.99,-130.24 752.42,-98.57 770.01,-74.79\"/>\n<polygon fill=\"black\" stroke=\"black\" points=\"772.83,-76.85 775.97,-66.73 767.2,-72.69 772.83,-76.85\"/>\n</g>\n<!-- 17 -->\n<g id=\"node18\" class=\"node\">\n<title>17</title>\n<path fill=\"#eead7e\" stroke=\"black\" d=\"M962,-222C962,-222 876,-222 876,-222 870,-222 864,-216 864,-210 864,-210 864,-166 864,-166 864,-160 870,-154 876,-154 876,-154 962,-154 962,-154 968,-154 974,-160 974,-166 974,-166 974,-210 974,-210 974,-216 968,-222 962,-222\"/>\n<text text-anchor=\"start\" x=\"886\" y=\"-206.8\" font-family=\"Helvetica,sans-Serif\" font-size=\"14.00\">Age ≤ 27.5</text>\n<text text-anchor=\"start\" x=\"887\" y=\"-191.8\" font-family=\"Helvetica,sans-Serif\" font-size=\"14.00\">gini = 0.38</text>\n<text text-anchor=\"start\" x=\"874\" y=\"-176.8\" font-family=\"Helvetica,sans-Serif\" font-size=\"14.00\">samples = 112</text>\n<text text-anchor=\"start\" x=\"872\" y=\"-161.8\" font-family=\"Helvetica,sans-Serif\" font-size=\"14.00\">value = [83, 29]</text>\n</g>\n<!-- 16&#45;&gt;17 -->\n<g id=\"edge17\" class=\"edge\">\n<title>16&#45;&gt;17</title>\n<path fill=\"none\" stroke=\"black\" d=\"M919,-312.7C919,-289.29 919,-257.73 919,-232.35\"/>\n<polygon fill=\"black\" stroke=\"black\" points=\"922.5,-232.25 919,-222.25 915.5,-232.25 922.5,-232.25\"/>\n</g>\n<!-- 20 -->\n<g id=\"node21\" class=\"node\">\n<title>20</title>\n<path fill=\"#f8ddca\" stroke=\"black\" d=\"M1090,-214.5C1090,-214.5 1004,-214.5 1004,-214.5 998,-214.5 992,-208.5 992,-202.5 992,-202.5 992,-173.5 992,-173.5 992,-167.5 998,-161.5 1004,-161.5 1004,-161.5 1090,-161.5 1090,-161.5 1096,-161.5 1102,-167.5 1102,-173.5 1102,-173.5 1102,-202.5 1102,-202.5 1102,-208.5 1096,-214.5 1090,-214.5\"/>\n<text text-anchor=\"start\" x=\"1015\" y=\"-199.3\" font-family=\"Helvetica,sans-Serif\" font-size=\"14.00\">gini = 0.49</text>\n<text text-anchor=\"start\" x=\"1006\" y=\"-184.3\" font-family=\"Helvetica,sans-Serif\" font-size=\"14.00\">samples = 52</text>\n<text text-anchor=\"start\" x=\"1000\" y=\"-169.3\" font-family=\"Helvetica,sans-Serif\" font-size=\"14.00\">value = [30, 22]</text>\n</g>\n<!-- 16&#45;&gt;20 -->\n<g id=\"edge20\" class=\"edge\">\n<title>16&#45;&gt;20</title>\n<path fill=\"none\" stroke=\"black\" d=\"M946.15,-312.7C967.69,-286.27 997.7,-249.47 1019.37,-222.89\"/>\n<polygon fill=\"black\" stroke=\"black\" points=\"1022.2,-224.95 1025.81,-214.99 1016.78,-220.53 1022.2,-224.95\"/>\n</g>\n<!-- 18 -->\n<g id=\"node19\" class=\"node\">\n<title>18</title>\n<path fill=\"#f3c5a4\" stroke=\"black\" d=\"M962,-66.5C962,-66.5 876,-66.5 876,-66.5 870,-66.5 864,-60.5 864,-54.5 864,-54.5 864,-25.5 864,-25.5 864,-19.5 870,-13.5 876,-13.5 876,-13.5 962,-13.5 962,-13.5 968,-13.5 974,-19.5 974,-25.5 974,-25.5 974,-54.5 974,-54.5 974,-60.5 968,-66.5 962,-66.5\"/>\n<text text-anchor=\"start\" x=\"887\" y=\"-51.3\" font-family=\"Helvetica,sans-Serif\" font-size=\"14.00\">gini = 0.46</text>\n<text text-anchor=\"start\" x=\"878\" y=\"-36.3\" font-family=\"Helvetica,sans-Serif\" font-size=\"14.00\">samples = 57</text>\n<text text-anchor=\"start\" x=\"872\" y=\"-21.3\" font-family=\"Helvetica,sans-Serif\" font-size=\"14.00\">value = [37, 20]</text>\n</g>\n<!-- 17&#45;&gt;18 -->\n<g id=\"edge18\" class=\"edge\">\n<title>17&#45;&gt;18</title>\n<path fill=\"none\" stroke=\"black\" d=\"M919,-153.87C919,-130.96 919,-100.49 919,-76.99\"/>\n<polygon fill=\"black\" stroke=\"black\" points=\"922.5,-76.73 919,-66.73 915.5,-76.73 922.5,-76.73\"/>\n</g>\n<!-- 19 -->\n<g id=\"node20\" class=\"node\">\n<title>19</title>\n<path fill=\"#ea9a60\" stroke=\"black\" d=\"M1082,-66.5C1082,-66.5 1004,-66.5 1004,-66.5 998,-66.5 992,-60.5 992,-54.5 992,-54.5 992,-25.5 992,-25.5 992,-19.5 998,-13.5 1004,-13.5 1004,-13.5 1082,-13.5 1082,-13.5 1088,-13.5 1094,-19.5 1094,-25.5 1094,-25.5 1094,-54.5 1094,-54.5 1094,-60.5 1088,-66.5 1082,-66.5\"/>\n<text text-anchor=\"start\" x=\"1011\" y=\"-51.3\" font-family=\"Helvetica,sans-Serif\" font-size=\"14.00\">gini = 0.27</text>\n<text text-anchor=\"start\" x=\"1002\" y=\"-36.3\" font-family=\"Helvetica,sans-Serif\" font-size=\"14.00\">samples = 55</text>\n<text text-anchor=\"start\" x=\"1000\" y=\"-21.3\" font-family=\"Helvetica,sans-Serif\" font-size=\"14.00\">value = [46, 9]</text>\n</g>\n<!-- 17&#45;&gt;19 -->\n<g id=\"edge19\" class=\"edge\">\n<title>17&#45;&gt;19</title>\n<path fill=\"none\" stroke=\"black\" d=\"M947.14,-153.87C967.3,-130.14 994.34,-98.29 1014.57,-74.48\"/>\n<polygon fill=\"black\" stroke=\"black\" points=\"1017.34,-76.62 1021.15,-66.73 1012,-72.09 1017.34,-76.62\"/>\n</g>\n</g>\n</svg>\n",
            "text/plain": [
              "<graphviz.sources.Source at 0x7d2206f475e0>"
            ]
          },
          "metadata": {},
          "execution_count": 40
        }
      ]
    },
    {
      "cell_type": "code",
      "source": [
        "mean_absolute_error(valid_y, dtree_2.predict(valid_xs))"
      ],
      "metadata": {
        "colab": {
          "base_uri": "https://localhost:8080/"
        },
        "id": "hmRQSTolgPMO",
        "outputId": "6e2479c7-e6a6-42a9-a3d3-6233c3c9ca07"
      },
      "execution_count": null,
      "outputs": [
        {
          "output_type": "execute_result",
          "data": {
            "text/plain": [
              "0.1865671641791045"
            ]
          },
          "metadata": {},
          "execution_count": 41
        }
      ]
    },
    {
      "cell_type": "markdown",
      "source": [
        "- MAE of 2nd DTree model(min. 50 samples/leaf) = 0.186<br>\n",
        "- MAE of 1st DTree model(with max leaf nodes = 6) = 0.182"
      ],
      "metadata": {
        "id": "97jLMErvnhGc"
      }
    },
    {
      "cell_type": "code",
      "source": [
        "test_df.head(10)"
      ],
      "metadata": {
        "colab": {
          "base_uri": "https://localhost:8080/",
          "height": 363
        },
        "id": "MJI34fjdrvsX",
        "outputId": "35ff556e-5384-47ae-a87a-1ecfc4e36ebd"
      },
      "execution_count": null,
      "outputs": [
        {
          "output_type": "execute_result",
          "data": {
            "text/plain": [
              "   PassengerId  Pclass                                          Name     Sex  \\\n",
              "0          892       3                              Kelly, Mr. James    male   \n",
              "1          893       3              Wilkes, Mrs. James (Ellen Needs)  female   \n",
              "2          894       2                     Myles, Mr. Thomas Francis    male   \n",
              "3          895       3                              Wirz, Mr. Albert    male   \n",
              "4          896       3  Hirvonen, Mrs. Alexander (Helga E Lindqvist)  female   \n",
              "5          897       3                    Svensson, Mr. Johan Cervin    male   \n",
              "6          898       3                          Connolly, Miss. Kate  female   \n",
              "7          899       2                  Caldwell, Mr. Albert Francis    male   \n",
              "8          900       3     Abrahim, Mrs. Joseph (Sophie Halaut Easu)  female   \n",
              "9          901       3                       Davies, Mr. John Samuel    male   \n",
              "\n",
              "    Age  SibSp  Parch     Ticket     Fare    Cabin Embarked   LogFare  \n",
              "0  34.5      0      0     330911   7.8292  B96 B98        Q  2.178064  \n",
              "1  47.0      1      0     363272   7.0000  B96 B98        S  2.079442  \n",
              "2  62.0      0      0     240276   9.6875  B96 B98        Q  2.369075  \n",
              "3  27.0      0      0     315154   8.6625  B96 B98        S  2.268252  \n",
              "4  22.0      1      1    3101298  12.2875  B96 B98        S  2.586824  \n",
              "5  14.0      0      0       7538   9.2250  B96 B98        S  2.324836  \n",
              "6  30.0      0      0     330972   7.6292  B96 B98        Q  2.155152  \n",
              "7  26.0      1      1     248738  29.0000  B96 B98        S  3.401197  \n",
              "8  18.0      0      0       2657   7.2292  B96 B98        C  2.107689  \n",
              "9  21.0      2      0  A/4 48871  24.1500  B96 B98        S  3.224858  "
            ],
            "text/html": [
              "\n",
              "  <div id=\"df-44da03b4-dfe4-4d37-8ec4-4d55db65ede6\" class=\"colab-df-container\">\n",
              "    <div>\n",
              "<style scoped>\n",
              "    .dataframe tbody tr th:only-of-type {\n",
              "        vertical-align: middle;\n",
              "    }\n",
              "\n",
              "    .dataframe tbody tr th {\n",
              "        vertical-align: top;\n",
              "    }\n",
              "\n",
              "    .dataframe thead th {\n",
              "        text-align: right;\n",
              "    }\n",
              "</style>\n",
              "<table border=\"1\" class=\"dataframe\">\n",
              "  <thead>\n",
              "    <tr style=\"text-align: right;\">\n",
              "      <th></th>\n",
              "      <th>PassengerId</th>\n",
              "      <th>Pclass</th>\n",
              "      <th>Name</th>\n",
              "      <th>Sex</th>\n",
              "      <th>Age</th>\n",
              "      <th>SibSp</th>\n",
              "      <th>Parch</th>\n",
              "      <th>Ticket</th>\n",
              "      <th>Fare</th>\n",
              "      <th>Cabin</th>\n",
              "      <th>Embarked</th>\n",
              "      <th>LogFare</th>\n",
              "    </tr>\n",
              "  </thead>\n",
              "  <tbody>\n",
              "    <tr>\n",
              "      <th>0</th>\n",
              "      <td>892</td>\n",
              "      <td>3</td>\n",
              "      <td>Kelly, Mr. James</td>\n",
              "      <td>male</td>\n",
              "      <td>34.5</td>\n",
              "      <td>0</td>\n",
              "      <td>0</td>\n",
              "      <td>330911</td>\n",
              "      <td>7.8292</td>\n",
              "      <td>B96 B98</td>\n",
              "      <td>Q</td>\n",
              "      <td>2.178064</td>\n",
              "    </tr>\n",
              "    <tr>\n",
              "      <th>1</th>\n",
              "      <td>893</td>\n",
              "      <td>3</td>\n",
              "      <td>Wilkes, Mrs. James (Ellen Needs)</td>\n",
              "      <td>female</td>\n",
              "      <td>47.0</td>\n",
              "      <td>1</td>\n",
              "      <td>0</td>\n",
              "      <td>363272</td>\n",
              "      <td>7.0000</td>\n",
              "      <td>B96 B98</td>\n",
              "      <td>S</td>\n",
              "      <td>2.079442</td>\n",
              "    </tr>\n",
              "    <tr>\n",
              "      <th>2</th>\n",
              "      <td>894</td>\n",
              "      <td>2</td>\n",
              "      <td>Myles, Mr. Thomas Francis</td>\n",
              "      <td>male</td>\n",
              "      <td>62.0</td>\n",
              "      <td>0</td>\n",
              "      <td>0</td>\n",
              "      <td>240276</td>\n",
              "      <td>9.6875</td>\n",
              "      <td>B96 B98</td>\n",
              "      <td>Q</td>\n",
              "      <td>2.369075</td>\n",
              "    </tr>\n",
              "    <tr>\n",
              "      <th>3</th>\n",
              "      <td>895</td>\n",
              "      <td>3</td>\n",
              "      <td>Wirz, Mr. Albert</td>\n",
              "      <td>male</td>\n",
              "      <td>27.0</td>\n",
              "      <td>0</td>\n",
              "      <td>0</td>\n",
              "      <td>315154</td>\n",
              "      <td>8.6625</td>\n",
              "      <td>B96 B98</td>\n",
              "      <td>S</td>\n",
              "      <td>2.268252</td>\n",
              "    </tr>\n",
              "    <tr>\n",
              "      <th>4</th>\n",
              "      <td>896</td>\n",
              "      <td>3</td>\n",
              "      <td>Hirvonen, Mrs. Alexander (Helga E Lindqvist)</td>\n",
              "      <td>female</td>\n",
              "      <td>22.0</td>\n",
              "      <td>1</td>\n",
              "      <td>1</td>\n",
              "      <td>3101298</td>\n",
              "      <td>12.2875</td>\n",
              "      <td>B96 B98</td>\n",
              "      <td>S</td>\n",
              "      <td>2.586824</td>\n",
              "    </tr>\n",
              "    <tr>\n",
              "      <th>5</th>\n",
              "      <td>897</td>\n",
              "      <td>3</td>\n",
              "      <td>Svensson, Mr. Johan Cervin</td>\n",
              "      <td>male</td>\n",
              "      <td>14.0</td>\n",
              "      <td>0</td>\n",
              "      <td>0</td>\n",
              "      <td>7538</td>\n",
              "      <td>9.2250</td>\n",
              "      <td>B96 B98</td>\n",
              "      <td>S</td>\n",
              "      <td>2.324836</td>\n",
              "    </tr>\n",
              "    <tr>\n",
              "      <th>6</th>\n",
              "      <td>898</td>\n",
              "      <td>3</td>\n",
              "      <td>Connolly, Miss. Kate</td>\n",
              "      <td>female</td>\n",
              "      <td>30.0</td>\n",
              "      <td>0</td>\n",
              "      <td>0</td>\n",
              "      <td>330972</td>\n",
              "      <td>7.6292</td>\n",
              "      <td>B96 B98</td>\n",
              "      <td>Q</td>\n",
              "      <td>2.155152</td>\n",
              "    </tr>\n",
              "    <tr>\n",
              "      <th>7</th>\n",
              "      <td>899</td>\n",
              "      <td>2</td>\n",
              "      <td>Caldwell, Mr. Albert Francis</td>\n",
              "      <td>male</td>\n",
              "      <td>26.0</td>\n",
              "      <td>1</td>\n",
              "      <td>1</td>\n",
              "      <td>248738</td>\n",
              "      <td>29.0000</td>\n",
              "      <td>B96 B98</td>\n",
              "      <td>S</td>\n",
              "      <td>3.401197</td>\n",
              "    </tr>\n",
              "    <tr>\n",
              "      <th>8</th>\n",
              "      <td>900</td>\n",
              "      <td>3</td>\n",
              "      <td>Abrahim, Mrs. Joseph (Sophie Halaut Easu)</td>\n",
              "      <td>female</td>\n",
              "      <td>18.0</td>\n",
              "      <td>0</td>\n",
              "      <td>0</td>\n",
              "      <td>2657</td>\n",
              "      <td>7.2292</td>\n",
              "      <td>B96 B98</td>\n",
              "      <td>C</td>\n",
              "      <td>2.107689</td>\n",
              "    </tr>\n",
              "    <tr>\n",
              "      <th>9</th>\n",
              "      <td>901</td>\n",
              "      <td>3</td>\n",
              "      <td>Davies, Mr. John Samuel</td>\n",
              "      <td>male</td>\n",
              "      <td>21.0</td>\n",
              "      <td>2</td>\n",
              "      <td>0</td>\n",
              "      <td>A/4 48871</td>\n",
              "      <td>24.1500</td>\n",
              "      <td>B96 B98</td>\n",
              "      <td>S</td>\n",
              "      <td>3.224858</td>\n",
              "    </tr>\n",
              "  </tbody>\n",
              "</table>\n",
              "</div>\n",
              "    <div class=\"colab-df-buttons\">\n",
              "\n",
              "  <div class=\"colab-df-container\">\n",
              "    <button class=\"colab-df-convert\" onclick=\"convertToInteractive('df-44da03b4-dfe4-4d37-8ec4-4d55db65ede6')\"\n",
              "            title=\"Convert this dataframe to an interactive table.\"\n",
              "            style=\"display:none;\">\n",
              "\n",
              "  <svg xmlns=\"http://www.w3.org/2000/svg\" height=\"24px\" viewBox=\"0 -960 960 960\">\n",
              "    <path d=\"M120-120v-720h720v720H120Zm60-500h600v-160H180v160Zm220 220h160v-160H400v160Zm0 220h160v-160H400v160ZM180-400h160v-160H180v160Zm440 0h160v-160H620v160ZM180-180h160v-160H180v160Zm440 0h160v-160H620v160Z\"/>\n",
              "  </svg>\n",
              "    </button>\n",
              "\n",
              "  <style>\n",
              "    .colab-df-container {\n",
              "      display:flex;\n",
              "      gap: 12px;\n",
              "    }\n",
              "\n",
              "    .colab-df-convert {\n",
              "      background-color: #E8F0FE;\n",
              "      border: none;\n",
              "      border-radius: 50%;\n",
              "      cursor: pointer;\n",
              "      display: none;\n",
              "      fill: #1967D2;\n",
              "      height: 32px;\n",
              "      padding: 0 0 0 0;\n",
              "      width: 32px;\n",
              "    }\n",
              "\n",
              "    .colab-df-convert:hover {\n",
              "      background-color: #E2EBFA;\n",
              "      box-shadow: 0px 1px 2px rgba(60, 64, 67, 0.3), 0px 1px 3px 1px rgba(60, 64, 67, 0.15);\n",
              "      fill: #174EA6;\n",
              "    }\n",
              "\n",
              "    .colab-df-buttons div {\n",
              "      margin-bottom: 4px;\n",
              "    }\n",
              "\n",
              "    [theme=dark] .colab-df-convert {\n",
              "      background-color: #3B4455;\n",
              "      fill: #D2E3FC;\n",
              "    }\n",
              "\n",
              "    [theme=dark] .colab-df-convert:hover {\n",
              "      background-color: #434B5C;\n",
              "      box-shadow: 0px 1px 3px 1px rgba(0, 0, 0, 0.15);\n",
              "      filter: drop-shadow(0px 1px 2px rgba(0, 0, 0, 0.3));\n",
              "      fill: #FFFFFF;\n",
              "    }\n",
              "  </style>\n",
              "\n",
              "    <script>\n",
              "      const buttonEl =\n",
              "        document.querySelector('#df-44da03b4-dfe4-4d37-8ec4-4d55db65ede6 button.colab-df-convert');\n",
              "      buttonEl.style.display =\n",
              "        google.colab.kernel.accessAllowed ? 'block' : 'none';\n",
              "\n",
              "      async function convertToInteractive(key) {\n",
              "        const element = document.querySelector('#df-44da03b4-dfe4-4d37-8ec4-4d55db65ede6');\n",
              "        const dataTable =\n",
              "          await google.colab.kernel.invokeFunction('convertToInteractive',\n",
              "                                                    [key], {});\n",
              "        if (!dataTable) return;\n",
              "\n",
              "        const docLinkHtml = 'Like what you see? Visit the ' +\n",
              "          '<a target=\"_blank\" href=https://colab.research.google.com/notebooks/data_table.ipynb>data table notebook</a>'\n",
              "          + ' to learn more about interactive tables.';\n",
              "        element.innerHTML = '';\n",
              "        dataTable['output_type'] = 'display_data';\n",
              "        await google.colab.output.renderOutput(dataTable, element);\n",
              "        const docLink = document.createElement('div');\n",
              "        docLink.innerHTML = docLinkHtml;\n",
              "        element.appendChild(docLink);\n",
              "      }\n",
              "    </script>\n",
              "  </div>\n",
              "\n",
              "\n",
              "<div id=\"df-b38d5779-13c5-438c-a5ea-1b246f7dd243\">\n",
              "  <button class=\"colab-df-quickchart\" onclick=\"quickchart('df-b38d5779-13c5-438c-a5ea-1b246f7dd243')\"\n",
              "            title=\"Suggest charts\"\n",
              "            style=\"display:none;\">\n",
              "\n",
              "<svg xmlns=\"http://www.w3.org/2000/svg\" height=\"24px\"viewBox=\"0 0 24 24\"\n",
              "     width=\"24px\">\n",
              "    <g>\n",
              "        <path d=\"M19 3H5c-1.1 0-2 .9-2 2v14c0 1.1.9 2 2 2h14c1.1 0 2-.9 2-2V5c0-1.1-.9-2-2-2zM9 17H7v-7h2v7zm4 0h-2V7h2v10zm4 0h-2v-4h2v4z\"/>\n",
              "    </g>\n",
              "</svg>\n",
              "  </button>\n",
              "\n",
              "<style>\n",
              "  .colab-df-quickchart {\n",
              "      --bg-color: #E8F0FE;\n",
              "      --fill-color: #1967D2;\n",
              "      --hover-bg-color: #E2EBFA;\n",
              "      --hover-fill-color: #174EA6;\n",
              "      --disabled-fill-color: #AAA;\n",
              "      --disabled-bg-color: #DDD;\n",
              "  }\n",
              "\n",
              "  [theme=dark] .colab-df-quickchart {\n",
              "      --bg-color: #3B4455;\n",
              "      --fill-color: #D2E3FC;\n",
              "      --hover-bg-color: #434B5C;\n",
              "      --hover-fill-color: #FFFFFF;\n",
              "      --disabled-bg-color: #3B4455;\n",
              "      --disabled-fill-color: #666;\n",
              "  }\n",
              "\n",
              "  .colab-df-quickchart {\n",
              "    background-color: var(--bg-color);\n",
              "    border: none;\n",
              "    border-radius: 50%;\n",
              "    cursor: pointer;\n",
              "    display: none;\n",
              "    fill: var(--fill-color);\n",
              "    height: 32px;\n",
              "    padding: 0;\n",
              "    width: 32px;\n",
              "  }\n",
              "\n",
              "  .colab-df-quickchart:hover {\n",
              "    background-color: var(--hover-bg-color);\n",
              "    box-shadow: 0 1px 2px rgba(60, 64, 67, 0.3), 0 1px 3px 1px rgba(60, 64, 67, 0.15);\n",
              "    fill: var(--button-hover-fill-color);\n",
              "  }\n",
              "\n",
              "  .colab-df-quickchart-complete:disabled,\n",
              "  .colab-df-quickchart-complete:disabled:hover {\n",
              "    background-color: var(--disabled-bg-color);\n",
              "    fill: var(--disabled-fill-color);\n",
              "    box-shadow: none;\n",
              "  }\n",
              "\n",
              "  .colab-df-spinner {\n",
              "    border: 2px solid var(--fill-color);\n",
              "    border-color: transparent;\n",
              "    border-bottom-color: var(--fill-color);\n",
              "    animation:\n",
              "      spin 1s steps(1) infinite;\n",
              "  }\n",
              "\n",
              "  @keyframes spin {\n",
              "    0% {\n",
              "      border-color: transparent;\n",
              "      border-bottom-color: var(--fill-color);\n",
              "      border-left-color: var(--fill-color);\n",
              "    }\n",
              "    20% {\n",
              "      border-color: transparent;\n",
              "      border-left-color: var(--fill-color);\n",
              "      border-top-color: var(--fill-color);\n",
              "    }\n",
              "    30% {\n",
              "      border-color: transparent;\n",
              "      border-left-color: var(--fill-color);\n",
              "      border-top-color: var(--fill-color);\n",
              "      border-right-color: var(--fill-color);\n",
              "    }\n",
              "    40% {\n",
              "      border-color: transparent;\n",
              "      border-right-color: var(--fill-color);\n",
              "      border-top-color: var(--fill-color);\n",
              "    }\n",
              "    60% {\n",
              "      border-color: transparent;\n",
              "      border-right-color: var(--fill-color);\n",
              "    }\n",
              "    80% {\n",
              "      border-color: transparent;\n",
              "      border-right-color: var(--fill-color);\n",
              "      border-bottom-color: var(--fill-color);\n",
              "    }\n",
              "    90% {\n",
              "      border-color: transparent;\n",
              "      border-bottom-color: var(--fill-color);\n",
              "    }\n",
              "  }\n",
              "</style>\n",
              "\n",
              "  <script>\n",
              "    async function quickchart(key) {\n",
              "      const quickchartButtonEl =\n",
              "        document.querySelector('#' + key + ' button');\n",
              "      quickchartButtonEl.disabled = true;  // To prevent multiple clicks.\n",
              "      quickchartButtonEl.classList.add('colab-df-spinner');\n",
              "      try {\n",
              "        const charts = await google.colab.kernel.invokeFunction(\n",
              "            'suggestCharts', [key], {});\n",
              "      } catch (error) {\n",
              "        console.error('Error during call to suggestCharts:', error);\n",
              "      }\n",
              "      quickchartButtonEl.classList.remove('colab-df-spinner');\n",
              "      quickchartButtonEl.classList.add('colab-df-quickchart-complete');\n",
              "    }\n",
              "    (() => {\n",
              "      let quickchartButtonEl =\n",
              "        document.querySelector('#df-b38d5779-13c5-438c-a5ea-1b246f7dd243 button');\n",
              "      quickchartButtonEl.style.display =\n",
              "        google.colab.kernel.accessAllowed ? 'block' : 'none';\n",
              "    })();\n",
              "  </script>\n",
              "</div>\n",
              "    </div>\n",
              "  </div>\n"
            ]
          },
          "metadata": {},
          "execution_count": 42
        }
      ]
    },
    {
      "cell_type": "code",
      "source": [
        "test_df.info()"
      ],
      "metadata": {
        "colab": {
          "base_uri": "https://localhost:8080/"
        },
        "id": "cSdkKv36sLqQ",
        "outputId": "b953adfb-e4e7-492c-8cfb-0ed522aaedeb"
      },
      "execution_count": null,
      "outputs": [
        {
          "output_type": "stream",
          "name": "stdout",
          "text": [
            "<class 'pandas.core.frame.DataFrame'>\n",
            "RangeIndex: 418 entries, 0 to 417\n",
            "Data columns (total 12 columns):\n",
            " #   Column       Non-Null Count  Dtype   \n",
            "---  ------       --------------  -----   \n",
            " 0   PassengerId  418 non-null    int64   \n",
            " 1   Pclass       418 non-null    int64   \n",
            " 2   Name         418 non-null    object  \n",
            " 3   Sex          418 non-null    category\n",
            " 4   Age          418 non-null    float64 \n",
            " 5   SibSp        418 non-null    int64   \n",
            " 6   Parch        418 non-null    int64   \n",
            " 7   Ticket       418 non-null    object  \n",
            " 8   Fare         418 non-null    float64 \n",
            " 9   Cabin        418 non-null    object  \n",
            " 10  Embarked     418 non-null    category\n",
            " 11  LogFare      418 non-null    float64 \n",
            "dtypes: category(2), float64(3), int64(4), object(3)\n",
            "memory usage: 33.8+ KB\n"
          ]
        }
      ]
    },
    {
      "cell_type": "code",
      "source": [
        "test_df[categorical] = test_df[categorical].apply(lambda x: x.cat.codes)\n",
        "test_xs, _ = create_variables(test_df)\n",
        "\n",
        "\n",
        "def submit_func(preds, suffix):\n",
        "  test_df['Survived'] = preds\n",
        "  submit_df = test_df[['PassengerId', 'Survived']]\n",
        "  submit_df.to_csv(f'submit-{suffix}.csv', index=False)\n",
        "\n",
        "\n",
        "submit_func(dtree.predict(test_xs), 'tree-model')"
      ],
      "metadata": {
        "id": "IKK9G0RVp62_"
      },
      "execution_count": null,
      "outputs": []
    },
    {
      "cell_type": "markdown",
      "source": [
        "##IV. Creating RandomForest Model:"
      ],
      "metadata": {
        "id": "lkM870nuyth9"
      }
    },
    {
      "cell_type": "markdown",
      "source": [
        "**RandomForest** is a bagging model, which consists of multiple decision tree models underneath it. The Decision Tree models are trained on random subset of the dataset, and then their errors and predictions are averaged(mean error ∼ 0) and the mean of the predictions of multiple decision trees is better than predictions made by one underlying decision tree."
      ],
      "metadata": {
        "id": "D62R2nT69c7M"
      }
    },
    {
      "cell_type": "code",
      "source": [
        "def get_tree(proportion = 0.50):\n",
        "  n = len(train_y)\n",
        "  idxs = random.choice(n, int(n*proportion))\n",
        "  return DecisionTreeClassifier(min_samples_leaf = 10).fit(train_xs.iloc[idxs], train_y.iloc[idxs])"
      ],
      "metadata": {
        "id": "Yq1Q9_9Lq-lw"
      },
      "execution_count": null,
      "outputs": []
    },
    {
      "cell_type": "code",
      "source": [
        "forest = [get_tree() for t in range(100)]"
      ],
      "metadata": {
        "id": "KQm5ARaH_A8i"
      },
      "execution_count": null,
      "outputs": []
    },
    {
      "cell_type": "code",
      "source": [
        "all_preds = [t.predict(valid_xs) for t in forest]\n",
        "\n",
        "mean_preds = np.stack(all_preds).mean(0)\n",
        "\n",
        "\n",
        "mean_absolute_error(valid_y, mean_preds)"
      ],
      "metadata": {
        "colab": {
          "base_uri": "https://localhost:8080/"
        },
        "id": "FpCQ8h58AZja",
        "outputId": "8eee035e-0ebd-48f8-8bbb-3b1c19dd883e"
      },
      "execution_count": null,
      "outputs": [
        {
          "output_type": "execute_result",
          "data": {
            "text/plain": [
              "0.19294776119402982"
            ]
          },
          "metadata": {},
          "execution_count": 49
        }
      ]
    },
    {
      "cell_type": "markdown",
      "source": [
        "### Using Sklearn's RandomForest model:"
      ],
      "metadata": {
        "id": "7LquPL6ABnLO"
      }
    },
    {
      "cell_type": "code",
      "source": [
        "from sklearn.ensemble import RandomForestClassifier\n",
        "\n",
        "rf = RandomForestClassifier(100, min_samples_leaf=10)\n",
        "rf.fit(train_xs, train_y)\n",
        "mean_absolute_error(valid_y, rf.predict(valid_xs))"
      ],
      "metadata": {
        "colab": {
          "base_uri": "https://localhost:8080/"
        },
        "id": "x0Wypu9wBZAr",
        "outputId": "d905d00b-0fcb-4b8f-9143-250e6669719e"
      },
      "execution_count": null,
      "outputs": [
        {
          "output_type": "execute_result",
          "data": {
            "text/plain": [
              "0.16417910447761194"
            ]
          },
          "metadata": {},
          "execution_count": 50
        }
      ]
    },
    {
      "cell_type": "code",
      "source": [
        "submit_func(rf.predict(test_xs), '-rf')"
      ],
      "metadata": {
        "id": "gsJ7CuGOCB5E"
      },
      "execution_count": null,
      "outputs": []
    },
    {
      "cell_type": "markdown",
      "source": [
        "# V. Feature Importance using RandomForests:"
      ],
      "metadata": {
        "id": "wWURAtG4Dc3f"
      }
    },
    {
      "cell_type": "code",
      "source": [
        "#plotting the feature importance using rf helps in deciding important features in large datasets:\n",
        "\n",
        "pd.DataFrame(dict(cols = train_xs.columns, imp = rf.feature_importances_)).plot('cols', 'imp', 'barh');"
      ],
      "metadata": {
        "colab": {
          "base_uri": "https://localhost:8080/",
          "height": 430
        },
        "id": "1bviMTmZCSQ1",
        "outputId": "a3d015be-6c33-4fcc-8457-44e37ea482a7"
      },
      "execution_count": null,
      "outputs": [
        {
          "output_type": "display_data",
          "data": {
            "text/plain": [
              "<Figure size 640x480 with 1 Axes>"
            ],
            "image/png": "[encoded data removed]"
          },
          "metadata": {}
        }
      ]
    },
    {
      "cell_type": "code",
      "source": [],
      "metadata": {
        "id": "f7w06J4nD62S"
      },
      "execution_count": null,
      "outputs": []
    }
  ]
}